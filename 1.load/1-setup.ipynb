{
 "cells": [
  {
   "attachments": {},
   "cell_type": "markdown",
   "metadata": {},
   "source": [
    "# Load profiles and save it as a parquet file"
   ]
  },
  {
   "attachments": {},
   "cell_type": "markdown",
   "metadata": {},
   "source": [
    "## Import libraries"
   ]
  },
  {
   "cell_type": "code",
   "execution_count": 25,
   "metadata": {},
   "outputs": [],
   "source": [
    "import io\n",
    "import pandas as pd\n",
    "import plotly.express as px\n",
    "import plotly.io as pio"
   ]
  },
  {
   "attachments": {},
   "cell_type": "markdown",
   "metadata": {},
   "source": [
    "## Helper functions"
   ]
  },
  {
   "cell_type": "code",
   "execution_count": 26,
   "metadata": {},
   "outputs": [],
   "source": [
    "profile_formatter = (\n",
    "    \"s3://cellpainting-gallery/cpg0016-jump/\"\n",
    "    \"{Metadata_Source}/workspace/profiles/\"\n",
    "    \"{Metadata_Batch}/{Metadata_Plate}/{Metadata_Plate}.parquet\"\n",
    ")"
   ]
  },
  {
   "attachments": {},
   "cell_type": "markdown",
   "metadata": {},
   "source": [
    "## Load metadata"
   ]
  },
  {
   "cell_type": "code",
   "execution_count": 27,
   "metadata": {},
   "outputs": [],
   "source": [
    "plates = pd.read_csv(\"../../datasets/metadata/plate.csv.gz\")\n",
    "wells = pd.read_csv(\"../../datasets/metadata/well.csv.gz\")\n",
    "compound = pd.read_csv(\"../../datasets/metadata/compound.csv.gz\")\n",
    "orf = pd.read_csv(\"../../datasets/metadata/orf.csv.gz\")\n"
   ]
  },
  {
   "attachments": {},
   "cell_type": "markdown",
   "metadata": {},
   "source": [
    "## Load plates"
   ]
  },
  {
   "cell_type": "code",
   "execution_count": 28,
   "metadata": {},
   "outputs": [
    {
     "data": {
      "text/plain": [
       "Metadata_Batch\n",
       "2021_07_12_Batch8    1\n",
       "2021_07_26_Batch9    1\n",
       "Name: Metadata_Plate, dtype: int64"
      ]
     },
     "execution_count": 28,
     "metadata": {},
     "output_type": "execute_result"
    }
   ],
   "source": [
    "sample = (\n",
    "    plates.query('Metadata_Source==\"source_4\"')\n",
    "    .query('Metadata_PlateType==\"ORF\"')\n",
    "    .query('Metadata_Batch==\"2021_07_12_Batch8\" | Metadata_Batch==\"2021_07_26_Batch9\"') # drop this later\n",
    "    .sample(2)\n",
    ")\n",
    "\n",
    "# count the number of plates per batch\n",
    "sample.groupby(\"Metadata_Batch\")[\"Metadata_Plate\"].count()\n"
   ]
  },
  {
   "attachments": {},
   "cell_type": "markdown",
   "metadata": {},
   "source": [
    "## Loading profiles\n",
    "\n",
    "Now let's load the profiles from these plates.\n",
    "\n",
    "Setting `columns = None` below will load all of the features.\n",
    "\n",
    "<div class=\"alert alert-warning\">\n",
    "WARNING: Files are located in S3. This loop loads only two features per each sampled plate; loading many feature and/or many plates can take several minutes.\n",
    "</div>"
   ]
  },
  {
   "cell_type": "code",
   "execution_count": 29,
   "metadata": {},
   "outputs": [
    {
     "data": {
      "text/plain": [
       "Metadata_Plate\n",
       "BR00125619    383\n",
       "BR00126046    384\n",
       "Name: Metadata_Well, dtype: int64"
      ]
     },
     "execution_count": 29,
     "metadata": {},
     "output_type": "execute_result"
    }
   ],
   "source": [
    "dframes = []\n",
    "columns = [\n",
    "    \"Metadata_Source\",\n",
    "    \"Metadata_Plate\",\n",
    "    \"Metadata_Well\",\n",
    "    \"Cells_AreaShape_Eccentricity\",\n",
    "    \"Nuclei_AreaShape_Area\",\n",
    "]\n",
    "for _, row in sample.iterrows():\n",
    "    s3_path = profile_formatter.format(**row.to_dict())\n",
    "    dframes.append(\n",
    "        pd.read_parquet(s3_path, storage_options={\"anon\": True}, columns=columns)\n",
    "    )\n",
    "dframes = pd.concat(dframes)\n",
    "\n",
    "dframes.groupby(\"Metadata_Plate\")[\"Metadata_Well\"].count()\n"
   ]
  },
  {
   "attachments": {},
   "cell_type": "markdown",
   "metadata": {},
   "source": [
    "Join features with metadata\n"
   ]
  },
  {
   "cell_type": "code",
   "execution_count": 30,
   "metadata": {},
   "outputs": [
    {
     "data": {
      "text/plain": [
       "Metadata_Plate\n",
       "BR00125619    367\n",
       "BR00126046    368\n",
       "Name: Metadata_Well, dtype: int64"
      ]
     },
     "execution_count": 30,
     "metadata": {},
     "output_type": "execute_result"
    }
   ],
   "source": [
    "metadata = orf.merge(wells, on=\"Metadata_JCP2022\")\n",
    "ann_dframe = metadata.merge(\n",
    "    dframes, on=[\"Metadata_Source\", \"Metadata_Plate\", \"Metadata_Well\"]\n",
    ")\n",
    "\n",
    "ann_dframe.groupby(\"Metadata_Plate\")[\"Metadata_Well\"].count()\n"
   ]
  },
  {
   "attachments": {},
   "cell_type": "markdown",
   "metadata": {},
   "source": [
    "Print sample of rows from `ann_dframe` (only `Metadata_` columns)"
   ]
  },
  {
   "cell_type": "code",
   "execution_count": 31,
   "metadata": {},
   "outputs": [
    {
     "data": {
      "text/html": [
       "<div>\n",
       "<style scoped>\n",
       "    .dataframe tbody tr th:only-of-type {\n",
       "        vertical-align: middle;\n",
       "    }\n",
       "\n",
       "    .dataframe tbody tr th {\n",
       "        vertical-align: top;\n",
       "    }\n",
       "\n",
       "    .dataframe thead th {\n",
       "        text-align: right;\n",
       "    }\n",
       "</style>\n",
       "<table border=\"1\" class=\"dataframe\">\n",
       "  <thead>\n",
       "    <tr style=\"text-align: right;\">\n",
       "      <th></th>\n",
       "      <th>Metadata_JCP2022</th>\n",
       "      <th>Metadata_broad_sample</th>\n",
       "      <th>Metadata_Name</th>\n",
       "      <th>Metadata_Vector</th>\n",
       "      <th>Metadata_Transcript</th>\n",
       "      <th>Metadata_Symbol</th>\n",
       "      <th>Metadata_NCBI_Gene_ID</th>\n",
       "      <th>Metadata_Taxon_ID</th>\n",
       "      <th>Metadata_Gene_Description</th>\n",
       "      <th>Metadata_Prot_Match</th>\n",
       "      <th>Metadata_Insert_Length</th>\n",
       "      <th>Metadata_pert_type</th>\n",
       "      <th>Metadata_Source</th>\n",
       "      <th>Metadata_Plate</th>\n",
       "      <th>Metadata_Well</th>\n",
       "    </tr>\n",
       "  </thead>\n",
       "  <tbody>\n",
       "    <tr>\n",
       "      <th>542</th>\n",
       "      <td>JCP2022_913301</td>\n",
       "      <td>ccsbBroad304_14253</td>\n",
       "      <td>ORF018390.1_TRC304.1</td>\n",
       "      <td>pLX_304</td>\n",
       "      <td>NM_015458.4</td>\n",
       "      <td>MTMR9</td>\n",
       "      <td>66036</td>\n",
       "      <td>9606</td>\n",
       "      <td>myotubularin related protein 9</td>\n",
       "      <td>NaN</td>\n",
       "      <td>1646.0</td>\n",
       "      <td>trt</td>\n",
       "      <td>source_4</td>\n",
       "      <td>BR00126046</td>\n",
       "      <td>F10</td>\n",
       "    </tr>\n",
       "    <tr>\n",
       "      <th>642</th>\n",
       "      <td>JCP2022_914431</td>\n",
       "      <td>ccsbBroad304_15431</td>\n",
       "      <td>ORF018511.1_TRC304.1</td>\n",
       "      <td>pLX_304</td>\n",
       "      <td>NM_000516.6</td>\n",
       "      <td>GNAS</td>\n",
       "      <td>2778</td>\n",
       "      <td>9606</td>\n",
       "      <td>GNAS complex locus</td>\n",
       "      <td>100.0</td>\n",
       "      <td>1182.0</td>\n",
       "      <td>trt</td>\n",
       "      <td>source_4</td>\n",
       "      <td>BR00125619</td>\n",
       "      <td>I03</td>\n",
       "    </tr>\n",
       "    <tr>\n",
       "      <th>135</th>\n",
       "      <td>JCP2022_904530</td>\n",
       "      <td>ccsbBroad304_04838</td>\n",
       "      <td>ORF002582.1_TRC304.1</td>\n",
       "      <td>pLX_304</td>\n",
       "      <td>NM_181456.2</td>\n",
       "      <td>MRPL55</td>\n",
       "      <td>128308</td>\n",
       "      <td>9606</td>\n",
       "      <td>mitochondrial ribosomal protein L55</td>\n",
       "      <td>100.0</td>\n",
       "      <td>384.0</td>\n",
       "      <td>trt</td>\n",
       "      <td>source_4</td>\n",
       "      <td>BR00125619</td>\n",
       "      <td>M10</td>\n",
       "    </tr>\n",
       "    <tr>\n",
       "      <th>121</th>\n",
       "      <td>JCP2022_904018</td>\n",
       "      <td>ccsbBroad304_04288</td>\n",
       "      <td>ORF013024.1_TRC304.1</td>\n",
       "      <td>pLX_304</td>\n",
       "      <td>XM_011537211.3</td>\n",
       "      <td>RPS6KL1</td>\n",
       "      <td>83694</td>\n",
       "      <td>9606</td>\n",
       "      <td>ribosomal protein S6 kinase like 1</td>\n",
       "      <td>92.5</td>\n",
       "      <td>1623.0</td>\n",
       "      <td>trt</td>\n",
       "      <td>source_4</td>\n",
       "      <td>BR00125619</td>\n",
       "      <td>F07</td>\n",
       "    </tr>\n",
       "    <tr>\n",
       "      <th>494</th>\n",
       "      <td>JCP2022_913027</td>\n",
       "      <td>ccsbBroad304_13967</td>\n",
       "      <td>ORF014742.1_TRC304.1</td>\n",
       "      <td>pLX_304</td>\n",
       "      <td>NM_001128148.3</td>\n",
       "      <td>TFRC</td>\n",
       "      <td>7037</td>\n",
       "      <td>9606</td>\n",
       "      <td>transferrin receptor</td>\n",
       "      <td>0.7</td>\n",
       "      <td>2279.0</td>\n",
       "      <td>trt</td>\n",
       "      <td>source_4</td>\n",
       "      <td>BR00126046</td>\n",
       "      <td>C15</td>\n",
       "    </tr>\n",
       "  </tbody>\n",
       "</table>\n",
       "</div>"
      ],
      "text/plain": [
       "    Metadata_JCP2022 Metadata_broad_sample         Metadata_Name  \\\n",
       "542   JCP2022_913301    ccsbBroad304_14253  ORF018390.1_TRC304.1   \n",
       "642   JCP2022_914431    ccsbBroad304_15431  ORF018511.1_TRC304.1   \n",
       "135   JCP2022_904530    ccsbBroad304_04838  ORF002582.1_TRC304.1   \n",
       "121   JCP2022_904018    ccsbBroad304_04288  ORF013024.1_TRC304.1   \n",
       "494   JCP2022_913027    ccsbBroad304_13967  ORF014742.1_TRC304.1   \n",
       "\n",
       "    Metadata_Vector Metadata_Transcript Metadata_Symbol Metadata_NCBI_Gene_ID  \\\n",
       "542         pLX_304         NM_015458.4           MTMR9                 66036   \n",
       "642         pLX_304         NM_000516.6            GNAS                  2778   \n",
       "135         pLX_304         NM_181456.2          MRPL55                128308   \n",
       "121         pLX_304      XM_011537211.3         RPS6KL1                 83694   \n",
       "494         pLX_304      NM_001128148.3            TFRC                  7037   \n",
       "\n",
       "    Metadata_Taxon_ID            Metadata_Gene_Description  \\\n",
       "542              9606       myotubularin related protein 9   \n",
       "642              9606                   GNAS complex locus   \n",
       "135              9606  mitochondrial ribosomal protein L55   \n",
       "121              9606   ribosomal protein S6 kinase like 1   \n",
       "494              9606                 transferrin receptor   \n",
       "\n",
       "     Metadata_Prot_Match  Metadata_Insert_Length Metadata_pert_type  \\\n",
       "542                  NaN                  1646.0                trt   \n",
       "642                100.0                  1182.0                trt   \n",
       "135                100.0                   384.0                trt   \n",
       "121                 92.5                  1623.0                trt   \n",
       "494                  0.7                  2279.0                trt   \n",
       "\n",
       "    Metadata_Source Metadata_Plate Metadata_Well  \n",
       "542        source_4     BR00126046           F10  \n",
       "642        source_4     BR00125619           I03  \n",
       "135        source_4     BR00125619           M10  \n",
       "121        source_4     BR00125619           F07  \n",
       "494        source_4     BR00126046           C15  "
      ]
     },
     "execution_count": 31,
     "metadata": {},
     "output_type": "execute_result"
    }
   ],
   "source": [
    "ann_dframe.filter(regex=\"^Metadata_\").sample(5)"
   ]
  },
  {
   "attachments": {},
   "cell_type": "markdown",
   "metadata": {},
   "source": [
    "## Save profiles"
   ]
  },
  {
   "cell_type": "code",
   "execution_count": 32,
   "metadata": {},
   "outputs": [],
   "source": [
    "ann_dframe.to_parquet(\"output/profiles.parquet\")"
   ]
  }
 ],
 "metadata": {
  "kernelspec": {
   "display_name": "position-effect-correction-U6h1kM8_-py3.10",
   "language": "python",
   "name": "python3"
  },
  "language_info": {
   "codemirror_mode": {
    "name": "ipython",
    "version": 3
   },
   "file_extension": ".py",
   "mimetype": "text/x-python",
   "name": "python",
   "nbconvert_exporter": "python",
   "pygments_lexer": "ipython3",
   "version": "3.10.10"
  },
  "orig_nbformat": 4,
  "vscode": {
   "interpreter": {
    "hash": "e7f5a3e13e27fb69dccbf1488c73c699eca61aa6890c91dd7b8929d2bff0c9c8"
   }
  }
 },
 "nbformat": 4,
 "nbformat_minor": 2
}
