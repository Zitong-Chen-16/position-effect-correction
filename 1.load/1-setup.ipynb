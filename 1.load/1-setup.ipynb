{
 "cells": [
  {
   "cell_type": "markdown",
   "metadata": {},
   "source": [
    "# Load profiles and save it as a parquet file"
   ]
  },
  {
   "cell_type": "markdown",
   "metadata": {},
   "source": [
    "## Import libraries"
   ]
  },
  {
   "cell_type": "code",
   "execution_count": 1,
   "metadata": {},
   "outputs": [],
   "source": [
    "import pandas as pd"
   ]
  },
  {
   "cell_type": "markdown",
   "metadata": {},
   "source": [
    "## Helper functions"
   ]
  },
  {
   "cell_type": "code",
   "execution_count": 2,
   "metadata": {},
   "outputs": [],
   "source": [
    "profile_formatter = (\n",
    "    \"s3://cellpainting-gallery/cpg0016-jump/\"\n",
    "    \"{Metadata_Source}/workspace/profiles/\"\n",
    "    \"{Metadata_Batch}/{Metadata_Plate}/{Metadata_Plate}.parquet\"\n",
    ")"
   ]
  },
  {
   "cell_type": "markdown",
   "metadata": {},
   "source": [
    "## Load metadata"
   ]
  },
  {
   "cell_type": "code",
   "execution_count": 3,
   "metadata": {},
   "outputs": [],
   "source": [
    "plates = pd.read_csv(\"../../datasets/metadata/plate.csv.gz\")\n",
    "wells = pd.read_csv(\"../../datasets/metadata/well.csv.gz\")\n",
    "compound = pd.read_csv(\"../../datasets/metadata/compound.csv.gz\")\n",
    "orf = pd.read_csv(\"../../datasets/metadata/orf.csv.gz\")\n"
   ]
  },
  {
   "cell_type": "markdown",
   "metadata": {},
   "source": [
    "## Load plates"
   ]
  },
  {
   "cell_type": "code",
   "execution_count": 4,
   "metadata": {},
   "outputs": [
    {
     "data": {
      "text/plain": [
       "Metadata_Batch\n",
       "2021_07_12_Batch8    20\n",
       "Name: Metadata_Plate, dtype: int64"
      ]
     },
     "execution_count": 4,
     "metadata": {},
     "output_type": "execute_result"
    }
   ],
   "source": [
    "sample = (\n",
    "    plates.query('Metadata_Source==\"source_4\"')\n",
    "    .query('Metadata_PlateType==\"ORF\"')\n",
    "    .query('Metadata_Batch==\"2021_07_12_Batch8\"') # drop this later\n",
    ")\n",
    "\n",
    "# count the number of plates per batch\n",
    "sample.groupby(\"Metadata_Batch\")[\"Metadata_Plate\"].count()\n"
   ]
  },
  {
   "cell_type": "markdown",
   "metadata": {},
   "source": [
    "## Loading profiles\n",
    "\n",
    "Now let's load the profiles from these plates.\n",
    "\n",
    "Setting `columns = None` below will load all of the features.\n",
    "\n",
    "<div class=\"alert alert-warning\">\n",
    "WARNING: Files are located in S3. This loop loads only two features per each sampled plate; loading many feature and/or many plates can take several minutes.\n",
    "</div>"
   ]
  },
  {
   "cell_type": "code",
   "execution_count": 5,
   "metadata": {},
   "outputs": [],
   "source": [
    "dframes = []\n",
    "columns = [\n",
    "    \"Metadata_Source\",\n",
    "    \"Metadata_Plate\",\n",
    "    \"Metadata_Well\",\n",
    "    \"Cells_AreaShape_Eccentricity\",\n",
    "    \"Nuclei_AreaShape_Area\",\n",
    "]\n",
    "for _, row in sample.iterrows():\n",
    "    s3_path = profile_formatter.format(**row.to_dict())\n",
    "    dframes.append(\n",
    "        pd.read_parquet(s3_path, storage_options={\"anon\": True}, columns=columns)\n",
    "    )\n",
    "dframes = pd.concat(dframes)\n",
    "\n",
    "dframes.groupby(\"Metadata_Plate\")[\"Metadata_Well\"].count()\n"
   ]
  },
  {
   "cell_type": "markdown",
   "metadata": {},
   "source": [
    "Join features with metadata\n"
   ]
  },
  {
   "cell_type": "code",
   "execution_count": null,
   "metadata": {},
   "outputs": [
    {
     "data": {
      "text/plain": [
       "Metadata_Plate\n",
       "BR00124787    368\n",
       "BR00124788    368\n",
       "BR00125619    367\n",
       "BR00125620    368\n",
       "BR00125621    368\n",
       "BR00125622    368\n",
       "BR00125623    368\n",
       "BR00125624    368\n",
       "BR00125625    368\n",
       "BR00125626    368\n",
       "BR00125627    368\n",
       "BR00125628    368\n",
       "BR00125629    368\n",
       "BR00125630    368\n",
       "BR00125631    368\n",
       "BR00125633    368\n",
       "BR00125634    368\n",
       "BR00125635    368\n",
       "BR00125636    368\n",
       "Name: Metadata_Well, dtype: int64"
      ]
     },
     "execution_count": 6,
     "metadata": {},
     "output_type": "execute_result"
    }
   ],
   "source": [
    "metadata = orf.merge(wells, on=\"Metadata_JCP2022\")\n",
    "ann_dframe = metadata.merge(\n",
    "    dframes, on=[\"Metadata_Source\", \"Metadata_Plate\", \"Metadata_Well\"]\n",
    ")\n",
    "\n",
    "ann_dframe.groupby(\"Metadata_Plate\")[\"Metadata_Well\"].count()\n"
   ]
  },
  {
   "cell_type": "markdown",
   "metadata": {},
   "source": [
    "Print sample of rows from `ann_dframe` (only `Metadata_` columns)"
   ]
  },
  {
   "cell_type": "code",
   "execution_count": null,
   "metadata": {},
   "outputs": [
    {
     "data": {
      "text/html": [
       "<div>\n",
       "<style scoped>\n",
       "    .dataframe tbody tr th:only-of-type {\n",
       "        vertical-align: middle;\n",
       "    }\n",
       "\n",
       "    .dataframe tbody tr th {\n",
       "        vertical-align: top;\n",
       "    }\n",
       "\n",
       "    .dataframe thead th {\n",
       "        text-align: right;\n",
       "    }\n",
       "</style>\n",
       "<table border=\"1\" class=\"dataframe\">\n",
       "  <thead>\n",
       "    <tr style=\"text-align: right;\">\n",
       "      <th></th>\n",
       "      <th>Metadata_JCP2022</th>\n",
       "      <th>Metadata_broad_sample</th>\n",
       "      <th>Metadata_Name</th>\n",
       "      <th>Metadata_Vector</th>\n",
       "      <th>Metadata_Transcript</th>\n",
       "      <th>Metadata_Symbol</th>\n",
       "      <th>Metadata_NCBI_Gene_ID</th>\n",
       "      <th>Metadata_Taxon_ID</th>\n",
       "      <th>Metadata_Gene_Description</th>\n",
       "      <th>Metadata_Prot_Match</th>\n",
       "      <th>Metadata_Insert_Length</th>\n",
       "      <th>Metadata_pert_type</th>\n",
       "      <th>Metadata_Source</th>\n",
       "      <th>Metadata_Plate</th>\n",
       "      <th>Metadata_Well</th>\n",
       "    </tr>\n",
       "  </thead>\n",
       "  <tbody>\n",
       "    <tr>\n",
       "      <th>4467</th>\n",
       "      <td>JCP2022_909883</td>\n",
       "      <td>ccsbBroad304_10603</td>\n",
       "      <td>ORF010829.1_TRC304.1</td>\n",
       "      <td>pLX_304</td>\n",
       "      <td>XLOC_l2_006955_3</td>\n",
       "      <td>XLOC_l2_006955</td>\n",
       "      <td>XLOC_l2_006955</td>\n",
       "      <td>9606</td>\n",
       "      <td>XLOC_l2_006955</td>\n",
       "      <td>NaN</td>\n",
       "      <td>348.0</td>\n",
       "      <td>trt</td>\n",
       "      <td>source_4</td>\n",
       "      <td>BR00125620</td>\n",
       "      <td>E15</td>\n",
       "    </tr>\n",
       "    <tr>\n",
       "      <th>6889</th>\n",
       "      <td>JCP2022_915132</td>\n",
       "      <td>ccsbBroad304_99997</td>\n",
       "      <td>ORFC00005.1_TRC304.1</td>\n",
       "      <td>pLX_304</td>\n",
       "      <td>eGFP.1</td>\n",
       "      <td>eGFP</td>\n",
       "      <td>eGFP</td>\n",
       "      <td>CONTROL</td>\n",
       "      <td>Hahn Lab eGFP</td>\n",
       "      <td>100.0</td>\n",
       "      <td>717.0</td>\n",
       "      <td>poscon</td>\n",
       "      <td>source_4</td>\n",
       "      <td>BR00125623</td>\n",
       "      <td>O19</td>\n",
       "    </tr>\n",
       "    <tr>\n",
       "      <th>422</th>\n",
       "      <td>JCP2022_900688</td>\n",
       "      <td>ccsbBroad304_00735</td>\n",
       "      <td>ORF004121.1_TRC304.1</td>\n",
       "      <td>pLX_304</td>\n",
       "      <td>NM_005666.4</td>\n",
       "      <td>CFHR2</td>\n",
       "      <td>3080</td>\n",
       "      <td>9606</td>\n",
       "      <td>complement factor H related 2</td>\n",
       "      <td>100.0</td>\n",
       "      <td>810.0</td>\n",
       "      <td>trt</td>\n",
       "      <td>source_4</td>\n",
       "      <td>BR00125633</td>\n",
       "      <td>B11</td>\n",
       "    </tr>\n",
       "    <tr>\n",
       "      <th>6145</th>\n",
       "      <td>JCP2022_914595</td>\n",
       "      <td>ccsbBroad304_15601</td>\n",
       "      <td>ORF000771.1_TRC304.1</td>\n",
       "      <td>pLX_304</td>\n",
       "      <td>NM_001369516.1</td>\n",
       "      <td>STAT3</td>\n",
       "      <td>6774</td>\n",
       "      <td>9606</td>\n",
       "      <td>signal transducer and activator of transcripti...</td>\n",
       "      <td>100.0</td>\n",
       "      <td>2307.0</td>\n",
       "      <td>trt</td>\n",
       "      <td>source_4</td>\n",
       "      <td>BR00125626</td>\n",
       "      <td>M11</td>\n",
       "    </tr>\n",
       "    <tr>\n",
       "      <th>6658</th>\n",
       "      <td>JCP2022_915129</td>\n",
       "      <td>ccsbBroad304_99988</td>\n",
       "      <td>ORFC00002.1_TRC304.1</td>\n",
       "      <td>pLX_304</td>\n",
       "      <td>HcRed.1</td>\n",
       "      <td>HcRed</td>\n",
       "      <td>HcRed</td>\n",
       "      <td>CONTROL</td>\n",
       "      <td>NaN</td>\n",
       "      <td>NaN</td>\n",
       "      <td>824.0</td>\n",
       "      <td>negcon</td>\n",
       "      <td>source_4</td>\n",
       "      <td>BR00125628</td>\n",
       "      <td>K11</td>\n",
       "    </tr>\n",
       "  </tbody>\n",
       "</table>\n",
       "</div>"
      ],
      "text/plain": [
       "     Metadata_JCP2022 Metadata_broad_sample         Metadata_Name  \\\n",
       "4467   JCP2022_909883    ccsbBroad304_10603  ORF010829.1_TRC304.1   \n",
       "6889   JCP2022_915132    ccsbBroad304_99997  ORFC00005.1_TRC304.1   \n",
       "422    JCP2022_900688    ccsbBroad304_00735  ORF004121.1_TRC304.1   \n",
       "6145   JCP2022_914595    ccsbBroad304_15601  ORF000771.1_TRC304.1   \n",
       "6658   JCP2022_915129    ccsbBroad304_99988  ORFC00002.1_TRC304.1   \n",
       "\n",
       "     Metadata_Vector Metadata_Transcript Metadata_Symbol  \\\n",
       "4467         pLX_304    XLOC_l2_006955_3  XLOC_l2_006955   \n",
       "6889         pLX_304              eGFP.1            eGFP   \n",
       "422          pLX_304         NM_005666.4           CFHR2   \n",
       "6145         pLX_304      NM_001369516.1           STAT3   \n",
       "6658         pLX_304             HcRed.1           HcRed   \n",
       "\n",
       "     Metadata_NCBI_Gene_ID Metadata_Taxon_ID  \\\n",
       "4467        XLOC_l2_006955              9606   \n",
       "6889                  eGFP           CONTROL   \n",
       "422                   3080              9606   \n",
       "6145                  6774              9606   \n",
       "6658                 HcRed           CONTROL   \n",
       "\n",
       "                              Metadata_Gene_Description  Metadata_Prot_Match  \\\n",
       "4467                                     XLOC_l2_006955                  NaN   \n",
       "6889                                      Hahn Lab eGFP                100.0   \n",
       "422                       complement factor H related 2                100.0   \n",
       "6145  signal transducer and activator of transcripti...                100.0   \n",
       "6658                                                NaN                  NaN   \n",
       "\n",
       "      Metadata_Insert_Length Metadata_pert_type Metadata_Source  \\\n",
       "4467                   348.0                trt        source_4   \n",
       "6889                   717.0             poscon        source_4   \n",
       "422                    810.0                trt        source_4   \n",
       "6145                  2307.0                trt        source_4   \n",
       "6658                   824.0             negcon        source_4   \n",
       "\n",
       "     Metadata_Plate Metadata_Well  \n",
       "4467     BR00125620           E15  \n",
       "6889     BR00125623           O19  \n",
       "422      BR00125633           B11  \n",
       "6145     BR00125626           M11  \n",
       "6658     BR00125628           K11  "
      ]
     },
     "execution_count": 7,
     "metadata": {},
     "output_type": "execute_result"
    }
   ],
   "source": [
    "ann_dframe.filter(regex=\"^Metadata_\").sample(5)"
   ]
  },
  {
   "cell_type": "markdown",
   "metadata": {},
   "source": [
    "## Save profiles"
   ]
  },
  {
   "cell_type": "code",
   "execution_count": null,
   "metadata": {},
   "outputs": [],
   "source": [
    "ann_dframe.to_parquet(\"output/raw_profiles.parquet\", index=False)"
   ]
  },
  {
   "cell_type": "code",
   "execution_count": null,
   "metadata": {},
   "outputs": [
    {
     "data": {
      "text/html": [
       "<div>\n",
       "<style scoped>\n",
       "    .dataframe tbody tr th:only-of-type {\n",
       "        vertical-align: middle;\n",
       "    }\n",
       "\n",
       "    .dataframe tbody tr th {\n",
       "        vertical-align: top;\n",
       "    }\n",
       "\n",
       "    .dataframe thead th {\n",
       "        text-align: right;\n",
       "    }\n",
       "</style>\n",
       "<table border=\"1\" class=\"dataframe\">\n",
       "  <thead>\n",
       "    <tr style=\"text-align: right;\">\n",
       "      <th></th>\n",
       "      <th>Metadata_Source</th>\n",
       "      <th>Metadata_Plate</th>\n",
       "      <th>Metadata_Well</th>\n",
       "      <th>Metadata_JCP2022</th>\n",
       "    </tr>\n",
       "  </thead>\n",
       "  <tbody>\n",
       "    <tr>\n",
       "      <th>0</th>\n",
       "      <td>source_10</td>\n",
       "      <td>Dest210531-152149</td>\n",
       "      <td>A01</td>\n",
       "      <td>JCP2022_085227</td>\n",
       "    </tr>\n",
       "    <tr>\n",
       "      <th>1</th>\n",
       "      <td>source_10</td>\n",
       "      <td>Dest210531-152149</td>\n",
       "      <td>A02</td>\n",
       "      <td>JCP2022_033924</td>\n",
       "    </tr>\n",
       "    <tr>\n",
       "      <th>2</th>\n",
       "      <td>source_10</td>\n",
       "      <td>Dest210531-152149</td>\n",
       "      <td>A03</td>\n",
       "      <td>JCP2022_056163</td>\n",
       "    </tr>\n",
       "    <tr>\n",
       "      <th>3</th>\n",
       "      <td>source_10</td>\n",
       "      <td>Dest210531-152149</td>\n",
       "      <td>A04</td>\n",
       "      <td>JCP2022_054175</td>\n",
       "    </tr>\n",
       "    <tr>\n",
       "      <th>4</th>\n",
       "      <td>source_10</td>\n",
       "      <td>Dest210531-152149</td>\n",
       "      <td>A05</td>\n",
       "      <td>JCP2022_999999</td>\n",
       "    </tr>\n",
       "    <tr>\n",
       "      <th>...</th>\n",
       "      <td>...</td>\n",
       "      <td>...</td>\n",
       "      <td>...</td>\n",
       "      <td>...</td>\n",
       "    </tr>\n",
       "    <tr>\n",
       "      <th>586613</th>\n",
       "      <td>source_8</td>\n",
       "      <td>A1170544</td>\n",
       "      <td>P20</td>\n",
       "      <td>JCP2022_041390</td>\n",
       "    </tr>\n",
       "    <tr>\n",
       "      <th>586614</th>\n",
       "      <td>source_8</td>\n",
       "      <td>A1170544</td>\n",
       "      <td>P21</td>\n",
       "      <td>JCP2022_999999</td>\n",
       "    </tr>\n",
       "    <tr>\n",
       "      <th>586615</th>\n",
       "      <td>source_8</td>\n",
       "      <td>A1170544</td>\n",
       "      <td>P22</td>\n",
       "      <td>JCP2022_024363</td>\n",
       "    </tr>\n",
       "    <tr>\n",
       "      <th>586616</th>\n",
       "      <td>source_8</td>\n",
       "      <td>A1170544</td>\n",
       "      <td>P23</td>\n",
       "      <td>JCP2022_033924</td>\n",
       "    </tr>\n",
       "    <tr>\n",
       "      <th>586617</th>\n",
       "      <td>source_8</td>\n",
       "      <td>A1170544</td>\n",
       "      <td>P24</td>\n",
       "      <td>JCP2022_046054</td>\n",
       "    </tr>\n",
       "  </tbody>\n",
       "</table>\n",
       "<p>499919 rows × 4 columns</p>\n",
       "</div>"
      ],
      "text/plain": [
       "       Metadata_Source     Metadata_Plate Metadata_Well Metadata_JCP2022\n",
       "0            source_10  Dest210531-152149           A01   JCP2022_085227\n",
       "1            source_10  Dest210531-152149           A02   JCP2022_033924\n",
       "2            source_10  Dest210531-152149           A03   JCP2022_056163\n",
       "3            source_10  Dest210531-152149           A04   JCP2022_054175\n",
       "4            source_10  Dest210531-152149           A05   JCP2022_999999\n",
       "...                ...                ...           ...              ...\n",
       "586613        source_8           A1170544           P20   JCP2022_041390\n",
       "586614        source_8           A1170544           P21   JCP2022_999999\n",
       "586615        source_8           A1170544           P22   JCP2022_024363\n",
       "586616        source_8           A1170544           P23   JCP2022_033924\n",
       "586617        source_8           A1170544           P24   JCP2022_046054\n",
       "\n",
       "[499919 rows x 4 columns]"
      ]
     },
     "execution_count": 9,
     "metadata": {},
     "output_type": "execute_result"
    }
   ],
   "source": [
    "# anti join `Metadata_JCP2022` to get the rows in `wells` that are not in `orf`\n",
    "wells[~wells.Metadata_JCP2022.isin(orf.Metadata_JCP2022)]\n",
    "\n"
   ]
  }
 ],
 "metadata": {
  "kernelspec": {
   "display_name": "Python 3 (ipykernel)",
   "language": "python",
   "name": "python3"
  },
  "language_info": {
   "codemirror_mode": {
    "name": "ipython",
    "version": 3
   },
   "file_extension": ".py",
   "mimetype": "text/x-python",
   "name": "python",
   "nbconvert_exporter": "python",
   "pygments_lexer": "ipython3",
   "version": "3.9.14"
  },
  "vscode": {
   "interpreter": {
    "hash": "e7f5a3e13e27fb69dccbf1488c73c699eca61aa6890c91dd7b8929d2bff0c9c8"
   }
  }
 },
 "nbformat": 4,
 "nbformat_minor": 2
}
