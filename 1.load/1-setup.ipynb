{
 "cells": [
  {
   "attachments": {},
   "cell_type": "markdown",
   "metadata": {},
   "source": [
    "# Load profiles and saev it as a parquet file"
   ]
  },
  {
   "attachments": {},
   "cell_type": "markdown",
   "metadata": {},
   "source": [
    "## Import libraries"
   ]
  },
  {
   "cell_type": "code",
   "execution_count": 1,
   "metadata": {},
   "outputs": [],
   "source": [
    "import io\n",
    "import pandas as pd\n",
    "import plotly.express as px\n",
    "import plotly.io as pio"
   ]
  },
  {
   "attachments": {},
   "cell_type": "markdown",
   "metadata": {},
   "source": [
    "## Helper functions"
   ]
  },
  {
   "cell_type": "code",
   "execution_count": 2,
   "metadata": {},
   "outputs": [],
   "source": [
    "profile_formatter = (\n",
    "    \"s3://cellpainting-gallery/cpg0016-jump/\"\n",
    "    \"{Metadata_Source}/workspace/profiles/\"\n",
    "    \"{Metadata_Batch}/{Metadata_Plate}/{Metadata_Plate}.parquet\"\n",
    ")"
   ]
  },
  {
   "attachments": {},
   "cell_type": "markdown",
   "metadata": {},
   "source": [
    "## Load metadata"
   ]
  },
  {
   "cell_type": "code",
   "execution_count": 3,
   "metadata": {},
   "outputs": [],
   "source": [
    "plates = pd.read_csv(\"../../datasets/metadata/plate.csv.gz\")\n",
    "wells = pd.read_csv(\"../../datasets/metadata/well.csv.gz\")\n",
    "compound = pd.read_csv(\"../../datasets/metadata/compound.csv.gz\")\n",
    "orf = pd.read_csv(\"../../datasets/metadata/orf.csv.gz\")\n"
   ]
  },
  {
   "attachments": {},
   "cell_type": "markdown",
   "metadata": {},
   "source": [
    "## Load plates"
   ]
  },
  {
   "cell_type": "code",
   "execution_count": 11,
   "metadata": {},
   "outputs": [
    {
     "data": {
      "text/plain": [
       "Metadata_Batch\n",
       "2021_07_12_Batch8    1\n",
       "2021_07_26_Batch9    1\n",
       "Name: Metadata_Plate, dtype: int64"
      ]
     },
     "execution_count": 11,
     "metadata": {},
     "output_type": "execute_result"
    }
   ],
   "source": [
    "sample = (\n",
    "    plates.query('Metadata_Source==\"source_4\"')\n",
    "    .query('Metadata_PlateType==\"ORF\"')\n",
    "    .query('Metadata_Batch==\"2021_07_12_Batch8\" | Metadata_Batch==\"2021_07_26_Batch9\"') # drop this later\n",
    "    .sample(2)\n",
    ")\n",
    "\n",
    "# count the number of plates per batch\n",
    "sample.groupby(\"Metadata_Batch\")[\"Metadata_Plate\"].count()\n"
   ]
  },
  {
   "attachments": {},
   "cell_type": "markdown",
   "metadata": {},
   "source": [
    "## Loading profiles\n",
    "\n",
    "Now let's load the profiles from these plates.\n",
    "\n",
    "Setting `columns = None` below will load all of the features.\n",
    "\n",
    "<div class=\"alert alert-warning\">\n",
    "WARNING: Files are located in S3. This loop loads only two features per each sampled plate; loading many feature and/or many plates can take several minutes.\n",
    "</div>"
   ]
  },
  {
   "cell_type": "code",
   "execution_count": 14,
   "metadata": {},
   "outputs": [],
   "source": [
    "dframes = []\n",
    "columns = [\n",
    "    \"Metadata_Source\",\n",
    "    \"Metadata_Plate\",\n",
    "    \"Metadata_Well\",\n",
    "    \"Cells_AreaShape_Eccentricity\",\n",
    "    \"Nuclei_AreaShape_Area\",\n",
    "]\n",
    "for _, row in sample.iterrows():\n",
    "    s3_path = profile_formatter.format(**row.to_dict())\n",
    "    dframes.append(\n",
    "        pd.read_parquet(s3_path, storage_options={\"anon\": True}, columns=columns)\n",
    "    )\n",
    "dframes = pd.concat(dframes)"
   ]
  }
 ],
 "metadata": {
  "kernelspec": {
   "display_name": "position-effect-correction-U6h1kM8_-py3.10",
   "language": "python",
   "name": "python3"
  },
  "language_info": {
   "codemirror_mode": {
    "name": "ipython",
    "version": 3
   },
   "file_extension": ".py",
   "mimetype": "text/x-python",
   "name": "python",
   "nbconvert_exporter": "python",
   "pygments_lexer": "ipython3",
   "version": "3.10.10"
  },
  "orig_nbformat": 4,
  "vscode": {
   "interpreter": {
    "hash": "e7f5a3e13e27fb69dccbf1488c73c699eca61aa6890c91dd7b8929d2bff0c9c8"
   }
  }
 },
 "nbformat": 4,
 "nbformat_minor": 2
}
