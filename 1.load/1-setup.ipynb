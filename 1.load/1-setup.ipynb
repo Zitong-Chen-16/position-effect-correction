{
 "cells": [
  {
   "cell_type": "markdown",
   "metadata": {},
   "source": [
    "# Load profiles and save it as a parquet file"
   ]
  },
  {
   "cell_type": "markdown",
   "metadata": {},
   "source": [
    "## Import libraries"
   ]
  },
  {
   "cell_type": "code",
   "execution_count": 1,
   "metadata": {},
   "outputs": [],
   "source": [
    "import pandas as pd"
   ]
  },
  {
   "cell_type": "markdown",
   "metadata": {},
   "source": [
    "## Helper functions"
   ]
  },
  {
   "cell_type": "code",
   "execution_count": 2,
   "metadata": {},
   "outputs": [],
   "source": [
    "profile_formatter = (\n",
    "    \"s3://cellpainting-gallery/cpg0016-jump/\"\n",
    "    \"{Metadata_Source}/workspace/profiles/\"\n",
    "    \"{Metadata_Batch}/{Metadata_Plate}/{Metadata_Plate}.parquet\"\n",
    ")"
   ]
  },
  {
   "cell_type": "markdown",
   "metadata": {},
   "source": [
    "## Load metadata"
   ]
  },
  {
   "cell_type": "code",
   "execution_count": 3,
   "metadata": {},
   "outputs": [],
   "source": [
    "plates = pd.read_csv(\"../../datasets/metadata/plate.csv.gz\")\n",
    "wells = pd.read_csv(\"../../datasets/metadata/well.csv.gz\")\n",
    "compound = pd.read_csv(\"../../datasets/metadata/compound.csv.gz\")\n",
    "orf = pd.read_csv(\"../../datasets/metadata/orf.csv.gz\")\n"
   ]
  },
  {
   "cell_type": "markdown",
   "metadata": {},
   "source": [
    "## Load plates"
   ]
  },
  {
   "cell_type": "code",
   "execution_count": 4,
   "metadata": {},
   "outputs": [
    {
     "data": {
      "text/plain": [
       "Metadata_Batch\n",
       "2021_07_12_Batch8    20\n",
       "2021_07_26_Batch9    21\n",
       "Name: Metadata_Plate, dtype: int64"
      ]
     },
     "execution_count": 4,
     "metadata": {},
     "output_type": "execute_result"
    }
   ],
   "source": [
    "sample = (\n",
    "    plates.query('Metadata_Source==\"source_4\"')\n",
    "    .query('Metadata_PlateType==\"ORF\"')\n",
    "    .query('Metadata_Batch==\"2021_07_12_Batch8\" | Metadata_Batch==\"2021_07_26_Batch9\"') # drop this later\n",
    ")\n",
    "\n",
    "# count the number of plates per batch\n",
    "sample.groupby(\"Metadata_Batch\")[\"Metadata_Plate\"].count()\n"
   ]
  },
  {
   "cell_type": "markdown",
   "metadata": {},
   "source": [
    "## Loading profiles\n",
    "\n",
    "Now let's load the profiles from these plates.\n",
    "\n",
    "Setting `columns = None` below will load all of the features.\n",
    "\n",
    "<div class=\"alert alert-warning\">\n",
    "WARNING: Files are located in S3. This loop loads only two features per each sampled plate; loading many feature and/or many plates can take several minutes.\n",
    "</div>"
   ]
  },
  {
   "cell_type": "code",
   "execution_count": 5,
   "metadata": {},
   "outputs": [],
   "source": [
    "dframes = []\n",
    "columns = [\n",
    "    \"Metadata_Source\",\n",
    "    \"Metadata_Plate\",\n",
    "    \"Metadata_Well\",\n",
    "    \"Cells_AreaShape_Eccentricity\",\n",
    "    \"Nuclei_AreaShape_Area\",\n",
    "]\n",
    "for _, row in sample.iterrows():\n",
    "    s3_path = profile_formatter.format(**row.to_dict())\n",
    "    dframes.append(\n",
    "        pd.read_parquet(s3_path, storage_options={\"anon\": True}, columns=columns)\n",
    "    )\n",
    "dframes = pd.concat(dframes)\n",
    "\n",
    "dframes.groupby(\"Metadata_Plate\")[\"Metadata_Well\"].count()\n"
   ]
  },
  {
   "cell_type": "markdown",
   "metadata": {},
   "source": [
    "Join features with metadata\n"
   ]
  },
  {
   "cell_type": "code",
   "execution_count": null,
   "metadata": {},
   "outputs": [
    {
     "data": {
      "text/plain": [
       "Metadata_Plate\n",
       "BR00124787    368\n",
       "BR00124788    368\n",
       "BR00125619    367\n",
       "BR00125620    368\n",
       "BR00125621    368\n",
       "BR00125622    368\n",
       "BR00125623    368\n",
       "BR00125624    368\n",
       "BR00125625    368\n",
       "BR00125626    368\n",
       "BR00125627    368\n",
       "BR00125628    368\n",
       "BR00125629    368\n",
       "BR00125630    368\n",
       "BR00125631    368\n",
       "BR00125633    368\n",
       "BR00125634    368\n",
       "BR00125635    368\n",
       "BR00125636    368\n",
       "Name: Metadata_Well, dtype: int64"
      ]
     },
     "execution_count": 6,
     "metadata": {},
     "output_type": "execute_result"
    }
   ],
   "source": [
    "metadata = orf.merge(wells, on=\"Metadata_JCP2022\")\n",
    "ann_dframe = metadata.merge(\n",
    "    dframes, on=[\"Metadata_Source\", \"Metadata_Plate\", \"Metadata_Well\"]\n",
    ")\n",
    "\n",
    "ann_dframe.groupby(\"Metadata_Plate\")[\"Metadata_Well\"].count()\n"
   ]
  },
  {
   "cell_type": "markdown",
   "metadata": {},
   "source": [
    "Print sample of rows from `ann_dframe` (only `Metadata_` columns)"
   ]
  },
  {
   "cell_type": "code",
   "execution_count": null,
   "metadata": {},
   "outputs": [
    {
     "data": {
      "text/html": [
       "<div>\n",
       "<style scoped>\n",
       "    .dataframe tbody tr th:only-of-type {\n",
       "        vertical-align: middle;\n",
       "    }\n",
       "\n",
       "    .dataframe tbody tr th {\n",
       "        vertical-align: top;\n",
       "    }\n",
       "\n",
       "    .dataframe thead th {\n",
       "        text-align: right;\n",
       "    }\n",
       "</style>\n",
       "<table border=\"1\" class=\"dataframe\">\n",
       "  <thead>\n",
       "    <tr style=\"text-align: right;\">\n",
       "      <th></th>\n",
       "      <th>Metadata_JCP2022</th>\n",
       "      <th>Metadata_broad_sample</th>\n",
       "      <th>Metadata_Name</th>\n",
       "      <th>Metadata_Vector</th>\n",
       "      <th>Metadata_Transcript</th>\n",
       "      <th>Metadata_Symbol</th>\n",
       "      <th>Metadata_NCBI_Gene_ID</th>\n",
       "      <th>Metadata_Taxon_ID</th>\n",
       "      <th>Metadata_Gene_Description</th>\n",
       "      <th>Metadata_Prot_Match</th>\n",
       "      <th>Metadata_Insert_Length</th>\n",
       "      <th>Metadata_pert_type</th>\n",
       "      <th>Metadata_Source</th>\n",
       "      <th>Metadata_Plate</th>\n",
       "      <th>Metadata_Well</th>\n",
       "    </tr>\n",
       "  </thead>\n",
       "  <tbody>\n",
       "    <tr>\n",
       "      <th>1790</th>\n",
       "      <td>JCP2022_903423</td>\n",
       "      <td>ccsbBroad304_03647</td>\n",
       "      <td>ORF007142.1_TRC304.1</td>\n",
       "      <td>pLX_304</td>\n",
       "      <td>NM_018235.3</td>\n",
       "      <td>CNDP2</td>\n",
       "      <td>55748</td>\n",
       "      <td>9606</td>\n",
       "      <td>carnosine dipeptidase 2</td>\n",
       "      <td>100.0</td>\n",
       "      <td>1425.0</td>\n",
       "      <td>trt</td>\n",
       "      <td>source_4</td>\n",
       "      <td>BR00124787</td>\n",
       "      <td>D09</td>\n",
       "    </tr>\n",
       "    <tr>\n",
       "      <th>4200</th>\n",
       "      <td>JCP2022_909167</td>\n",
       "      <td>ccsbBroad304_09835</td>\n",
       "      <td>ORF013236.1_TRC304.1</td>\n",
       "      <td>pLX_304</td>\n",
       "      <td>NM_145177.3</td>\n",
       "      <td>DHRSX</td>\n",
       "      <td>207063</td>\n",
       "      <td>9606</td>\n",
       "      <td>dehydrogenase/reductase X-linked</td>\n",
       "      <td>99.3</td>\n",
       "      <td>990.0</td>\n",
       "      <td>trt</td>\n",
       "      <td>source_4</td>\n",
       "      <td>BR00125628</td>\n",
       "      <td>J01</td>\n",
       "    </tr>\n",
       "    <tr>\n",
       "      <th>4571</th>\n",
       "      <td>JCP2022_910187</td>\n",
       "      <td>ccsbBroad304_10927</td>\n",
       "      <td>ORF011630.1_TRC304.1</td>\n",
       "      <td>pLX_304</td>\n",
       "      <td>NM_002214.3</td>\n",
       "      <td>ITGB8</td>\n",
       "      <td>3696</td>\n",
       "      <td>9606</td>\n",
       "      <td>integrin subunit beta 8</td>\n",
       "      <td>55.3</td>\n",
       "      <td>1317.0</td>\n",
       "      <td>trt</td>\n",
       "      <td>source_4</td>\n",
       "      <td>BR00125634</td>\n",
       "      <td>C15</td>\n",
       "    </tr>\n",
       "    <tr>\n",
       "      <th>1845</th>\n",
       "      <td>JCP2022_903570</td>\n",
       "      <td>ccsbBroad304_03800</td>\n",
       "      <td>ORF017896.1_TRC304.1</td>\n",
       "      <td>pLX_304</td>\n",
       "      <td>NM_001018070.2</td>\n",
       "      <td>CORO1B</td>\n",
       "      <td>57175</td>\n",
       "      <td>9606</td>\n",
       "      <td>coronin 1B</td>\n",
       "      <td>100.0</td>\n",
       "      <td>1467.0</td>\n",
       "      <td>trt</td>\n",
       "      <td>source_4</td>\n",
       "      <td>BR00124788</td>\n",
       "      <td>H06</td>\n",
       "    </tr>\n",
       "    <tr>\n",
       "      <th>3805</th>\n",
       "      <td>JCP2022_908110</td>\n",
       "      <td>ccsbBroad304_08678</td>\n",
       "      <td>ORF013728.1_TRC304.1</td>\n",
       "      <td>pLX_304</td>\n",
       "      <td>NM_001166287.1</td>\n",
       "      <td>RGMA</td>\n",
       "      <td>56963</td>\n",
       "      <td>9606</td>\n",
       "      <td>repulsive guidance molecule BMP co-receptor a</td>\n",
       "      <td>99.7</td>\n",
       "      <td>1302.0</td>\n",
       "      <td>trt</td>\n",
       "      <td>source_4</td>\n",
       "      <td>BR00125623</td>\n",
       "      <td>J07</td>\n",
       "    </tr>\n",
       "  </tbody>\n",
       "</table>\n",
       "</div>"
      ],
      "text/plain": [
       "     Metadata_JCP2022 Metadata_broad_sample         Metadata_Name  \\\n",
       "1790   JCP2022_903423    ccsbBroad304_03647  ORF007142.1_TRC304.1   \n",
       "4200   JCP2022_909167    ccsbBroad304_09835  ORF013236.1_TRC304.1   \n",
       "4571   JCP2022_910187    ccsbBroad304_10927  ORF011630.1_TRC304.1   \n",
       "1845   JCP2022_903570    ccsbBroad304_03800  ORF017896.1_TRC304.1   \n",
       "3805   JCP2022_908110    ccsbBroad304_08678  ORF013728.1_TRC304.1   \n",
       "\n",
       "     Metadata_Vector Metadata_Transcript Metadata_Symbol  \\\n",
       "1790         pLX_304         NM_018235.3           CNDP2   \n",
       "4200         pLX_304         NM_145177.3           DHRSX   \n",
       "4571         pLX_304         NM_002214.3           ITGB8   \n",
       "1845         pLX_304      NM_001018070.2          CORO1B   \n",
       "3805         pLX_304      NM_001166287.1            RGMA   \n",
       "\n",
       "     Metadata_NCBI_Gene_ID Metadata_Taxon_ID  \\\n",
       "1790                 55748              9606   \n",
       "4200                207063              9606   \n",
       "4571                  3696              9606   \n",
       "1845                 57175              9606   \n",
       "3805                 56963              9606   \n",
       "\n",
       "                          Metadata_Gene_Description  Metadata_Prot_Match  \\\n",
       "1790                        carnosine dipeptidase 2                100.0   \n",
       "4200               dehydrogenase/reductase X-linked                 99.3   \n",
       "4571                        integrin subunit beta 8                 55.3   \n",
       "1845                                     coronin 1B                100.0   \n",
       "3805  repulsive guidance molecule BMP co-receptor a                 99.7   \n",
       "\n",
       "      Metadata_Insert_Length Metadata_pert_type Metadata_Source  \\\n",
       "1790                  1425.0                trt        source_4   \n",
       "4200                   990.0                trt        source_4   \n",
       "4571                  1317.0                trt        source_4   \n",
       "1845                  1467.0                trt        source_4   \n",
       "3805                  1302.0                trt        source_4   \n",
       "\n",
       "     Metadata_Plate Metadata_Well  \n",
       "1790     BR00124787           D09  \n",
       "4200     BR00125628           J01  \n",
       "4571     BR00125634           C15  \n",
       "1845     BR00124788           H06  \n",
       "3805     BR00125623           J07  "
      ]
     },
     "execution_count": 7,
     "metadata": {},
     "output_type": "execute_result"
    }
   ],
   "source": [
    "ann_dframe.filter(regex=\"^Metadata_\").sample(5)"
   ]
  },
  {
   "cell_type": "markdown",
   "metadata": {},
   "source": [
    "## Save profiles"
   ]
  },
  {
   "cell_type": "code",
   "execution_count": null,
   "metadata": {},
   "outputs": [],
   "source": [
    "ann_dframe.to_parquet(\"output/raw_profiles.parquet\", index=False)"
   ]
  },
  {
   "cell_type": "code",
   "execution_count": null,
   "metadata": {},
   "outputs": [
    {
     "data": {
      "text/html": [
       "<div>\n",
       "<style scoped>\n",
       "    .dataframe tbody tr th:only-of-type {\n",
       "        vertical-align: middle;\n",
       "    }\n",
       "\n",
       "    .dataframe tbody tr th {\n",
       "        vertical-align: top;\n",
       "    }\n",
       "\n",
       "    .dataframe thead th {\n",
       "        text-align: right;\n",
       "    }\n",
       "</style>\n",
       "<table border=\"1\" class=\"dataframe\">\n",
       "  <thead>\n",
       "    <tr style=\"text-align: right;\">\n",
       "      <th></th>\n",
       "      <th>Metadata_Source</th>\n",
       "      <th>Metadata_Plate</th>\n",
       "      <th>Metadata_Well</th>\n",
       "      <th>Metadata_JCP2022</th>\n",
       "    </tr>\n",
       "  </thead>\n",
       "  <tbody>\n",
       "    <tr>\n",
       "      <th>0</th>\n",
       "      <td>source_10</td>\n",
       "      <td>Dest210531-152149</td>\n",
       "      <td>A01</td>\n",
       "      <td>JCP2022_085227</td>\n",
       "    </tr>\n",
       "    <tr>\n",
       "      <th>1</th>\n",
       "      <td>source_10</td>\n",
       "      <td>Dest210531-152149</td>\n",
       "      <td>A02</td>\n",
       "      <td>JCP2022_033924</td>\n",
       "    </tr>\n",
       "    <tr>\n",
       "      <th>2</th>\n",
       "      <td>source_10</td>\n",
       "      <td>Dest210531-152149</td>\n",
       "      <td>A03</td>\n",
       "      <td>JCP2022_056163</td>\n",
       "    </tr>\n",
       "    <tr>\n",
       "      <th>3</th>\n",
       "      <td>source_10</td>\n",
       "      <td>Dest210531-152149</td>\n",
       "      <td>A04</td>\n",
       "      <td>JCP2022_054175</td>\n",
       "    </tr>\n",
       "    <tr>\n",
       "      <th>4</th>\n",
       "      <td>source_10</td>\n",
       "      <td>Dest210531-152149</td>\n",
       "      <td>A05</td>\n",
       "      <td>JCP2022_999999</td>\n",
       "    </tr>\n",
       "    <tr>\n",
       "      <th>...</th>\n",
       "      <td>...</td>\n",
       "      <td>...</td>\n",
       "      <td>...</td>\n",
       "      <td>...</td>\n",
       "    </tr>\n",
       "    <tr>\n",
       "      <th>586613</th>\n",
       "      <td>source_8</td>\n",
       "      <td>A1170544</td>\n",
       "      <td>P20</td>\n",
       "      <td>JCP2022_041390</td>\n",
       "    </tr>\n",
       "    <tr>\n",
       "      <th>586614</th>\n",
       "      <td>source_8</td>\n",
       "      <td>A1170544</td>\n",
       "      <td>P21</td>\n",
       "      <td>JCP2022_999999</td>\n",
       "    </tr>\n",
       "    <tr>\n",
       "      <th>586615</th>\n",
       "      <td>source_8</td>\n",
       "      <td>A1170544</td>\n",
       "      <td>P22</td>\n",
       "      <td>JCP2022_024363</td>\n",
       "    </tr>\n",
       "    <tr>\n",
       "      <th>586616</th>\n",
       "      <td>source_8</td>\n",
       "      <td>A1170544</td>\n",
       "      <td>P23</td>\n",
       "      <td>JCP2022_033924</td>\n",
       "    </tr>\n",
       "    <tr>\n",
       "      <th>586617</th>\n",
       "      <td>source_8</td>\n",
       "      <td>A1170544</td>\n",
       "      <td>P24</td>\n",
       "      <td>JCP2022_046054</td>\n",
       "    </tr>\n",
       "  </tbody>\n",
       "</table>\n",
       "<p>499919 rows × 4 columns</p>\n",
       "</div>"
      ],
      "text/plain": [
       "       Metadata_Source     Metadata_Plate Metadata_Well Metadata_JCP2022\n",
       "0            source_10  Dest210531-152149           A01   JCP2022_085227\n",
       "1            source_10  Dest210531-152149           A02   JCP2022_033924\n",
       "2            source_10  Dest210531-152149           A03   JCP2022_056163\n",
       "3            source_10  Dest210531-152149           A04   JCP2022_054175\n",
       "4            source_10  Dest210531-152149           A05   JCP2022_999999\n",
       "...                ...                ...           ...              ...\n",
       "586613        source_8           A1170544           P20   JCP2022_041390\n",
       "586614        source_8           A1170544           P21   JCP2022_999999\n",
       "586615        source_8           A1170544           P22   JCP2022_024363\n",
       "586616        source_8           A1170544           P23   JCP2022_033924\n",
       "586617        source_8           A1170544           P24   JCP2022_046054\n",
       "\n",
       "[499919 rows x 4 columns]"
      ]
     },
     "execution_count": 9,
     "metadata": {},
     "output_type": "execute_result"
    }
   ],
   "source": [
    "# anti join `Metadata_JCP2022` to get the rows in `wells` that are not in `orf`\n",
    "wells[~wells.Metadata_JCP2022.isin(orf.Metadata_JCP2022)]\n",
    "\n"
   ]
  }
 ],
 "metadata": {
  "kernelspec": {
   "display_name": "Python 3 (ipykernel)",
   "language": "python",
   "name": "python3"
  },
  "language_info": {
   "codemirror_mode": {
    "name": "ipython",
    "version": 3
   },
   "file_extension": ".py",
   "mimetype": "text/x-python",
   "name": "python",
   "nbconvert_exporter": "python",
   "pygments_lexer": "ipython3",
   "version": "3.9.14"
  },
  "vscode": {
   "interpreter": {
    "hash": "e7f5a3e13e27fb69dccbf1488c73c699eca61aa6890c91dd7b8929d2bff0c9c8"
   }
  }
 },
 "nbformat": 4,
 "nbformat_minor": 2
}
