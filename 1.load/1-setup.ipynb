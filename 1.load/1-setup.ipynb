{
 "cells": [
  {
   "attachments": {},
   "cell_type": "markdown",
   "metadata": {},
   "source": [
    "# Load profiles and save it as a parquet file"
   ]
  },
  {
   "attachments": {},
   "cell_type": "markdown",
   "metadata": {},
   "source": [
    "## Import libraries"
   ]
  },
  {
   "cell_type": "code",
   "execution_count": 7,
   "metadata": {},
   "outputs": [],
   "source": [
    "import io\n",
    "import pandas as pd\n",
    "import plotly.express as px\n",
    "import plotly.io as pio"
   ]
  },
  {
   "attachments": {},
   "cell_type": "markdown",
   "metadata": {},
   "source": [
    "## Helper functions"
   ]
  },
  {
   "cell_type": "code",
   "execution_count": 8,
   "metadata": {},
   "outputs": [],
   "source": [
    "profile_formatter = (\n",
    "    \"s3://cellpainting-gallery/cpg0016-jump/\"\n",
    "    \"{Metadata_Source}/workspace/profiles/\"\n",
    "    \"{Metadata_Batch}/{Metadata_Plate}/{Metadata_Plate}.parquet\"\n",
    ")"
   ]
  },
  {
   "attachments": {},
   "cell_type": "markdown",
   "metadata": {},
   "source": [
    "## Load metadata"
   ]
  },
  {
   "cell_type": "code",
   "execution_count": 9,
   "metadata": {},
   "outputs": [],
   "source": [
    "plates = pd.read_csv(\"../../datasets/metadata/plate.csv.gz\")\n",
    "wells = pd.read_csv(\"../../datasets/metadata/well.csv.gz\")\n",
    "compound = pd.read_csv(\"../../datasets/metadata/compound.csv.gz\")\n",
    "orf = pd.read_csv(\"../../datasets/metadata/orf.csv.gz\")\n"
   ]
  },
  {
   "attachments": {},
   "cell_type": "markdown",
   "metadata": {},
   "source": [
    "## Load plates"
   ]
  },
  {
   "cell_type": "code",
   "execution_count": 10,
   "metadata": {},
   "outputs": [
    {
     "data": {
      "text/plain": [
       "Metadata_Batch\n",
       "2021_07_12_Batch8    20\n",
       "Name: Metadata_Plate, dtype: int64"
      ]
     },
     "execution_count": 10,
     "metadata": {},
     "output_type": "execute_result"
    }
   ],
   "source": [
    "sample = (\n",
    "    plates.query('Metadata_Source==\"source_4\"')\n",
    "    .query('Metadata_PlateType==\"ORF\"')\n",
    "    .query('Metadata_Batch==\"2021_07_12_Batch8\"') # drop this later\n",
    ")\n",
    "\n",
    "# count the number of plates per batch\n",
    "sample.groupby(\"Metadata_Batch\")[\"Metadata_Plate\"].count()\n"
   ]
  },
  {
   "attachments": {},
   "cell_type": "markdown",
   "metadata": {},
   "source": [
    "## Loading profiles\n",
    "\n",
    "Now let's load the profiles from these plates.\n",
    "\n",
    "Setting `columns = None` below will load all of the features.\n",
    "\n",
    "<div class=\"alert alert-warning\">\n",
    "WARNING: Files are located in S3. This loop loads only two features per each sampled plate; loading many feature and/or many plates can take several minutes.\n",
    "</div>"
   ]
  },
  {
   "cell_type": "code",
   "execution_count": 11,
   "metadata": {},
   "outputs": [
    {
     "data": {
      "text/plain": [
       "Metadata_Plate\n",
       "BR00124787    384\n",
       "BR00124788    384\n",
       "BR00125619    383\n",
       "BR00125620    384\n",
       "BR00125621    384\n",
       "BR00125622    384\n",
       "BR00125623    384\n",
       "BR00125624    384\n",
       "BR00125625    384\n",
       "BR00125626    384\n",
       "BR00125627    384\n",
       "BR00125628    384\n",
       "BR00125629    384\n",
       "BR00125630    384\n",
       "BR00125631    384\n",
       "BR00125633    384\n",
       "BR00125634    384\n",
       "BR00125635    384\n",
       "BR00125636    384\n",
       "BR00125637    384\n",
       "Name: Metadata_Well, dtype: int64"
      ]
     },
     "execution_count": 11,
     "metadata": {},
     "output_type": "execute_result"
    }
   ],
   "source": [
    "dframes = []\n",
    "columns = [\n",
    "    \"Metadata_Source\",\n",
    "    \"Metadata_Plate\",\n",
    "    \"Metadata_Well\",\n",
    "    \"Cells_AreaShape_Eccentricity\",\n",
    "    \"Nuclei_AreaShape_Area\",\n",
    "]\n",
    "for _, row in sample.iterrows():\n",
    "    s3_path = profile_formatter.format(**row.to_dict())\n",
    "    dframes.append(\n",
    "        pd.read_parquet(s3_path, storage_options={\"anon\": True}, columns=columns)\n",
    "    )\n",
    "dframes = pd.concat(dframes)\n",
    "\n",
    "dframes.groupby(\"Metadata_Plate\")[\"Metadata_Well\"].count()\n"
   ]
  },
  {
   "attachments": {},
   "cell_type": "markdown",
   "metadata": {},
   "source": [
    "Join features with metadata\n"
   ]
  },
  {
   "cell_type": "code",
   "execution_count": 12,
   "metadata": {},
   "outputs": [
    {
     "data": {
      "text/plain": [
       "Metadata_Plate\n",
       "BR00124787    368\n",
       "BR00124788    368\n",
       "BR00125619    367\n",
       "BR00125620    368\n",
       "BR00125621    368\n",
       "BR00125622    368\n",
       "BR00125623    368\n",
       "BR00125624    368\n",
       "BR00125625    368\n",
       "BR00125626    368\n",
       "BR00125627    368\n",
       "BR00125628    368\n",
       "BR00125629    368\n",
       "BR00125630    368\n",
       "BR00125631    368\n",
       "BR00125633    368\n",
       "BR00125634    368\n",
       "BR00125635    368\n",
       "BR00125636    368\n",
       "Name: Metadata_Well, dtype: int64"
      ]
     },
     "execution_count": 12,
     "metadata": {},
     "output_type": "execute_result"
    }
   ],
   "source": [
    "metadata = orf.merge(wells, on=\"Metadata_JCP2022\")\n",
    "ann_dframe = metadata.merge(\n",
    "    dframes, on=[\"Metadata_Source\", \"Metadata_Plate\", \"Metadata_Well\"]\n",
    ")\n",
    "\n",
    "ann_dframe.groupby(\"Metadata_Plate\")[\"Metadata_Well\"].count()\n"
   ]
  },
  {
   "attachments": {},
   "cell_type": "markdown",
   "metadata": {},
   "source": [
    "Print sample of rows from `ann_dframe` (only `Metadata_` columns)"
   ]
  },
  {
   "cell_type": "code",
   "execution_count": 13,
   "metadata": {},
   "outputs": [
    {
     "data": {
      "text/html": [
       "<div>\n",
       "<style scoped>\n",
       "    .dataframe tbody tr th:only-of-type {\n",
       "        vertical-align: middle;\n",
       "    }\n",
       "\n",
       "    .dataframe tbody tr th {\n",
       "        vertical-align: top;\n",
       "    }\n",
       "\n",
       "    .dataframe thead th {\n",
       "        text-align: right;\n",
       "    }\n",
       "</style>\n",
       "<table border=\"1\" class=\"dataframe\">\n",
       "  <thead>\n",
       "    <tr style=\"text-align: right;\">\n",
       "      <th></th>\n",
       "      <th>Metadata_JCP2022</th>\n",
       "      <th>Metadata_broad_sample</th>\n",
       "      <th>Metadata_Name</th>\n",
       "      <th>Metadata_Vector</th>\n",
       "      <th>Metadata_Transcript</th>\n",
       "      <th>Metadata_Symbol</th>\n",
       "      <th>Metadata_NCBI_Gene_ID</th>\n",
       "      <th>Metadata_Taxon_ID</th>\n",
       "      <th>Metadata_Gene_Description</th>\n",
       "      <th>Metadata_Prot_Match</th>\n",
       "      <th>Metadata_Insert_Length</th>\n",
       "      <th>Metadata_pert_type</th>\n",
       "      <th>Metadata_Source</th>\n",
       "      <th>Metadata_Plate</th>\n",
       "      <th>Metadata_Well</th>\n",
       "    </tr>\n",
       "  </thead>\n",
       "  <tbody>\n",
       "    <tr>\n",
       "      <th>2580</th>\n",
       "      <td>JCP2022_905168</td>\n",
       "      <td>ccsbBroad304_05525</td>\n",
       "      <td>ORF012541.1_TRC304.1</td>\n",
       "      <td>pLX_304</td>\n",
       "      <td>NM_181727.2</td>\n",
       "      <td>SPATA12</td>\n",
       "      <td>353324</td>\n",
       "      <td>9606</td>\n",
       "      <td>spermatogenesis associated 12</td>\n",
       "      <td>100.0</td>\n",
       "      <td>570.0</td>\n",
       "      <td>trt</td>\n",
       "      <td>source_4</td>\n",
       "      <td>BR00125624</td>\n",
       "      <td>O06</td>\n",
       "    </tr>\n",
       "    <tr>\n",
       "      <th>4058</th>\n",
       "      <td>JCP2022_908778</td>\n",
       "      <td>ccsbBroad304_09405</td>\n",
       "      <td>ORF008924.1_TRC304.1</td>\n",
       "      <td>pLX_304</td>\n",
       "      <td>NM_031910.4</td>\n",
       "      <td>C1QTNF6</td>\n",
       "      <td>114904</td>\n",
       "      <td>9606</td>\n",
       "      <td>C1q and TNF related 6</td>\n",
       "      <td>99.2</td>\n",
       "      <td>834.0</td>\n",
       "      <td>trt</td>\n",
       "      <td>source_4</td>\n",
       "      <td>BR00125630</td>\n",
       "      <td>B20</td>\n",
       "    </tr>\n",
       "    <tr>\n",
       "      <th>5523</th>\n",
       "      <td>JCP2022_912399</td>\n",
       "      <td>ccsbBroad304_13306</td>\n",
       "      <td>ORF011423.1_TRC304.1</td>\n",
       "      <td>pLX_304</td>\n",
       "      <td>NM_139246.5</td>\n",
       "      <td>TSTD2</td>\n",
       "      <td>158427</td>\n",
       "      <td>9606</td>\n",
       "      <td>thiosulfate sulfurtransferase like domain cont...</td>\n",
       "      <td>94.5</td>\n",
       "      <td>1467.0</td>\n",
       "      <td>trt</td>\n",
       "      <td>source_4</td>\n",
       "      <td>BR00125621</td>\n",
       "      <td>A12</td>\n",
       "    </tr>\n",
       "    <tr>\n",
       "      <th>4291</th>\n",
       "      <td>JCP2022_909451</td>\n",
       "      <td>ccsbBroad304_10152</td>\n",
       "      <td>ORF013171.1_TRC304.1</td>\n",
       "      <td>pLX_304</td>\n",
       "      <td>NR_149714.1</td>\n",
       "      <td>C9orf106</td>\n",
       "      <td>414318</td>\n",
       "      <td>9606</td>\n",
       "      <td>chromosome 9 open reading frame 106 (putative)</td>\n",
       "      <td>NaN</td>\n",
       "      <td>696.0</td>\n",
       "      <td>trt</td>\n",
       "      <td>source_4</td>\n",
       "      <td>BR00125626</td>\n",
       "      <td>A20</td>\n",
       "    </tr>\n",
       "    <tr>\n",
       "      <th>3604</th>\n",
       "      <td>JCP2022_907592</td>\n",
       "      <td>ccsbBroad304_08117</td>\n",
       "      <td>ORF009020.1_TRC304.1</td>\n",
       "      <td>pLX_304</td>\n",
       "      <td>NM_013314.3</td>\n",
       "      <td>BLNK</td>\n",
       "      <td>29760</td>\n",
       "      <td>9606</td>\n",
       "      <td>B cell linker</td>\n",
       "      <td>1.0</td>\n",
       "      <td>1322.0</td>\n",
       "      <td>trt</td>\n",
       "      <td>source_4</td>\n",
       "      <td>BR00125626</td>\n",
       "      <td>P05</td>\n",
       "    </tr>\n",
       "  </tbody>\n",
       "</table>\n",
       "</div>"
      ],
      "text/plain": [
       "     Metadata_JCP2022 Metadata_broad_sample         Metadata_Name  \\\n",
       "2580   JCP2022_905168    ccsbBroad304_05525  ORF012541.1_TRC304.1   \n",
       "4058   JCP2022_908778    ccsbBroad304_09405  ORF008924.1_TRC304.1   \n",
       "5523   JCP2022_912399    ccsbBroad304_13306  ORF011423.1_TRC304.1   \n",
       "4291   JCP2022_909451    ccsbBroad304_10152  ORF013171.1_TRC304.1   \n",
       "3604   JCP2022_907592    ccsbBroad304_08117  ORF009020.1_TRC304.1   \n",
       "\n",
       "     Metadata_Vector Metadata_Transcript Metadata_Symbol  \\\n",
       "2580         pLX_304         NM_181727.2         SPATA12   \n",
       "4058         pLX_304         NM_031910.4         C1QTNF6   \n",
       "5523         pLX_304         NM_139246.5           TSTD2   \n",
       "4291         pLX_304         NR_149714.1        C9orf106   \n",
       "3604         pLX_304         NM_013314.3            BLNK   \n",
       "\n",
       "     Metadata_NCBI_Gene_ID Metadata_Taxon_ID  \\\n",
       "2580                353324              9606   \n",
       "4058                114904              9606   \n",
       "5523                158427              9606   \n",
       "4291                414318              9606   \n",
       "3604                 29760              9606   \n",
       "\n",
       "                              Metadata_Gene_Description  Metadata_Prot_Match  \\\n",
       "2580                      spermatogenesis associated 12                100.0   \n",
       "4058                              C1q and TNF related 6                 99.2   \n",
       "5523  thiosulfate sulfurtransferase like domain cont...                 94.5   \n",
       "4291     chromosome 9 open reading frame 106 (putative)                  NaN   \n",
       "3604                                      B cell linker                  1.0   \n",
       "\n",
       "      Metadata_Insert_Length Metadata_pert_type Metadata_Source  \\\n",
       "2580                   570.0                trt        source_4   \n",
       "4058                   834.0                trt        source_4   \n",
       "5523                  1467.0                trt        source_4   \n",
       "4291                   696.0                trt        source_4   \n",
       "3604                  1322.0                trt        source_4   \n",
       "\n",
       "     Metadata_Plate Metadata_Well  \n",
       "2580     BR00125624           O06  \n",
       "4058     BR00125630           B20  \n",
       "5523     BR00125621           A12  \n",
       "4291     BR00125626           A20  \n",
       "3604     BR00125626           P05  "
      ]
     },
     "execution_count": 13,
     "metadata": {},
     "output_type": "execute_result"
    }
   ],
   "source": [
    "ann_dframe.filter(regex=\"^Metadata_\").sample(5)"
   ]
  },
  {
   "attachments": {},
   "cell_type": "markdown",
   "metadata": {},
   "source": [
    "## Save profiles"
   ]
  },
  {
   "cell_type": "code",
   "execution_count": 14,
   "metadata": {},
   "outputs": [],
   "source": [
    "ann_dframe.to_parquet(\"output/profiles.parquet\", index=False)"
   ]
  },
  {
   "cell_type": "code",
   "execution_count": 17,
   "metadata": {},
   "outputs": [
    {
     "data": {
      "text/html": [
       "<div>\n",
       "<style scoped>\n",
       "    .dataframe tbody tr th:only-of-type {\n",
       "        vertical-align: middle;\n",
       "    }\n",
       "\n",
       "    .dataframe tbody tr th {\n",
       "        vertical-align: top;\n",
       "    }\n",
       "\n",
       "    .dataframe thead th {\n",
       "        text-align: right;\n",
       "    }\n",
       "</style>\n",
       "<table border=\"1\" class=\"dataframe\">\n",
       "  <thead>\n",
       "    <tr style=\"text-align: right;\">\n",
       "      <th></th>\n",
       "      <th>Metadata_Source</th>\n",
       "      <th>Metadata_Plate</th>\n",
       "      <th>Metadata_Well</th>\n",
       "      <th>Metadata_JCP2022</th>\n",
       "    </tr>\n",
       "  </thead>\n",
       "  <tbody>\n",
       "    <tr>\n",
       "      <th>0</th>\n",
       "      <td>source_1</td>\n",
       "      <td>UL000081</td>\n",
       "      <td>A02</td>\n",
       "      <td>JCP2022_033924</td>\n",
       "    </tr>\n",
       "    <tr>\n",
       "      <th>1</th>\n",
       "      <td>source_1</td>\n",
       "      <td>UL000081</td>\n",
       "      <td>A03</td>\n",
       "      <td>JCP2022_085227</td>\n",
       "    </tr>\n",
       "    <tr>\n",
       "      <th>2</th>\n",
       "      <td>source_1</td>\n",
       "      <td>UL000081</td>\n",
       "      <td>A04</td>\n",
       "      <td>JCP2022_033924</td>\n",
       "    </tr>\n",
       "    <tr>\n",
       "      <th>3</th>\n",
       "      <td>source_1</td>\n",
       "      <td>UL000081</td>\n",
       "      <td>A05</td>\n",
       "      <td>JCP2022_047857</td>\n",
       "    </tr>\n",
       "    <tr>\n",
       "      <th>4</th>\n",
       "      <td>source_1</td>\n",
       "      <td>UL000081</td>\n",
       "      <td>A06</td>\n",
       "      <td>JCP2022_072229</td>\n",
       "    </tr>\n",
       "    <tr>\n",
       "      <th>...</th>\n",
       "      <td>...</td>\n",
       "      <td>...</td>\n",
       "      <td>...</td>\n",
       "      <td>...</td>\n",
       "    </tr>\n",
       "    <tr>\n",
       "      <th>1096069</th>\n",
       "      <td>source_9</td>\n",
       "      <td>GR00004421</td>\n",
       "      <td>Z44</td>\n",
       "      <td>JCP2022_999999</td>\n",
       "    </tr>\n",
       "    <tr>\n",
       "      <th>1096070</th>\n",
       "      <td>source_9</td>\n",
       "      <td>GR00004421</td>\n",
       "      <td>Z45</td>\n",
       "      <td>JCP2022_999999</td>\n",
       "    </tr>\n",
       "    <tr>\n",
       "      <th>1096071</th>\n",
       "      <td>source_9</td>\n",
       "      <td>GR00004421</td>\n",
       "      <td>Z46</td>\n",
       "      <td>JCP2022_999999</td>\n",
       "    </tr>\n",
       "    <tr>\n",
       "      <th>1096072</th>\n",
       "      <td>source_9</td>\n",
       "      <td>GR00004421</td>\n",
       "      <td>Z47</td>\n",
       "      <td>JCP2022_033924</td>\n",
       "    </tr>\n",
       "    <tr>\n",
       "      <th>1096073</th>\n",
       "      <td>source_9</td>\n",
       "      <td>GR00004421</td>\n",
       "      <td>Z48</td>\n",
       "      <td>JCP2022_037716</td>\n",
       "    </tr>\n",
       "  </tbody>\n",
       "</table>\n",
       "<p>1009375 rows × 4 columns</p>\n",
       "</div>"
      ],
      "text/plain": [
       "        Metadata_Source Metadata_Plate Metadata_Well Metadata_JCP2022\n",
       "0              source_1       UL000081           A02   JCP2022_033924\n",
       "1              source_1       UL000081           A03   JCP2022_085227\n",
       "2              source_1       UL000081           A04   JCP2022_033924\n",
       "3              source_1       UL000081           A05   JCP2022_047857\n",
       "4              source_1       UL000081           A06   JCP2022_072229\n",
       "...                 ...            ...           ...              ...\n",
       "1096069        source_9     GR00004421           Z44   JCP2022_999999\n",
       "1096070        source_9     GR00004421           Z45   JCP2022_999999\n",
       "1096071        source_9     GR00004421           Z46   JCP2022_999999\n",
       "1096072        source_9     GR00004421           Z47   JCP2022_033924\n",
       "1096073        source_9     GR00004421           Z48   JCP2022_037716\n",
       "\n",
       "[1009375 rows x 4 columns]"
      ]
     },
     "execution_count": 17,
     "metadata": {},
     "output_type": "execute_result"
    }
   ],
   "source": [
    "# anti join `Metadata_JCP2022` to get the rows in `wells` that are not in `orf`\n",
    "wells[~wells.Metadata_JCP2022.isin(orf.Metadata_JCP2022)]\n",
    "\n"
   ]
  }
 ],
 "metadata": {
  "kernelspec": {
   "display_name": "position-effect-correction-U6h1kM8_-py3.10",
   "language": "python",
   "name": "python3"
  },
  "language_info": {
   "codemirror_mode": {
    "name": "ipython",
    "version": 3
   },
   "file_extension": ".py",
   "mimetype": "text/x-python",
   "name": "python",
   "nbconvert_exporter": "python",
   "pygments_lexer": "ipython3",
   "version": "3.11.2"
  },
  "orig_nbformat": 4,
  "vscode": {
   "interpreter": {
    "hash": "e7f5a3e13e27fb69dccbf1488c73c699eca61aa6890c91dd7b8929d2bff0c9c8"
   }
  }
 },
 "nbformat": 4,
 "nbformat_minor": 2
}
