{
 "cells": [
  {
   "cell_type": "code",
   "execution_count": 1,
   "metadata": {},
   "outputs": [],
   "source": [
    "import sys\n",
    "sys.path.append(\"../1.load\")\n",
    "from pathlib import Path\n",
    "\n",
    "import pandas as pd\n",
    "from sklearn.decomposition import PCA, KernelPCA\n",
    "\n",
    "from preprocess import preprocess_profiles"
   ]
  },
  {
   "cell_type": "code",
   "execution_count": 2,
   "metadata": {},
   "outputs": [],
   "source": [
    "profiles = {\n",
    "    \"subset->preprocess\": \"../1.load/output/subset_processed_profiles.parquet\",\n",
    "    \"subset->cc_adjust->preprocess\": \"../3.correct/output/subset_profiles_cc_corrected.parquet\",\n",
    "    \"subset->well_correct->preprocess\": \"../3.correct/output/subset_profiles_mean_corrected_preprocessed.parquet\",\n",
    "    \"subset->cc_adjust->well_correct->preprocess\": \"../3.correct/output/subset_profiles_cc_well_corrected.parquet\",\n",
    "}"
   ]
  },
  {
   "cell_type": "code",
   "execution_count": 3,
   "metadata": {},
   "outputs": [
    {
     "name": "stdout",
     "output_type": "stream",
     "text": [
      "(19143, 614) \n",
      " Cytoplasm    166\n",
      "Image        160\n",
      "Nuclei       140\n",
      "Cells        131\n",
      "dtype: int64\n",
      "(19143, 454)\n",
      "(19143, 665) \n",
      " Cytoplasm    200\n",
      "Image        172\n",
      "Nuclei       141\n",
      "Cells        135\n",
      "dtype: int64\n",
      "(19143, 493)\n",
      "(19143, 644) \n",
      " Image        174\n",
      "Cytoplasm    172\n",
      "Nuclei       144\n",
      "Cells        137\n",
      "dtype: int64\n",
      "(19143, 470)\n",
      "(19143, 680) \n",
      " Cytoplasm    198\n",
      "Image        183\n",
      "Nuclei       145\n",
      "Cells        137\n",
      "dtype: int64\n",
      "(19143, 497)\n"
     ]
    }
   ],
   "source": [
    "for p in profiles:\n",
    "    df = pd.read_parquet(profiles[p])\n",
    "    print(df.shape, \"\\n\", df.filter(regex=\"^(?!Metadata_)\").columns.str.split(\"_\").str[0].value_counts())\n",
    "    df = df.loc[:, ~df.columns.str.startswith(\"Image_\")]\n",
    "    print(df.shape)\n",
    "    # save to parquet with appended suffix _no_image to the filename\n",
    "    df.to_parquet(Path(profiles[p]).parent / (Path(profiles[p]).stem + \"_no_image.parquet\"))"
   ]
  },
  {
   "attachments": {},
   "cell_type": "markdown",
   "metadata": {},
   "source": [
    "#### Also try PCA"
   ]
  },
  {
   "cell_type": "code",
   "execution_count": 5,
   "metadata": {},
   "outputs": [
    {
     "name": "stdout",
     "output_type": "stream",
     "text": [
      "(19143, 614)\n",
      "(19143, 33)\n",
      "(19143, 665)\n",
      "(19143, 26)\n",
      "(19143, 644)\n",
      "(19143, 19)\n",
      "(19143, 680)\n",
      "(19143, 21)\n"
     ]
    }
   ],
   "source": [
    "for p in profiles:\n",
    "    df = pd.read_parquet(profiles[p])\n",
    "    print(df.shape)\n",
    "    pca = PCA(n_components=0.99, svd_solver='full')\n",
    "    df = pd.concat([\n",
    "        df.filter(regex=\"^Metadata_\"),\n",
    "        pd.DataFrame(pca.fit_transform(df.filter(regex=\"^(?!Metadata_)\")))\n",
    "    ], axis=1)\n",
    "    df.columns = df.columns.map(str)\n",
    "    print(df.shape)\n",
    "    df.to_parquet(Path(profiles[p]).parent / (Path(profiles[p]).stem + \"_pca.parquet\"))"
   ]
  },
  {
   "attachments": {},
   "cell_type": "markdown",
   "metadata": {},
   "source": [
    "#### PCA using cosine kernel (takes ~15 min on M1 32GB)"
   ]
  },
  {
   "cell_type": "code",
   "execution_count": 6,
   "metadata": {},
   "outputs": [
    {
     "name": "stdout",
     "output_type": "stream",
     "text": [
      "../1.load/output/subset_processed_profiles.parquet (19143, 614)\n",
      "(19143, 50)\n",
      "../3.correct/output/subset_profiles_cc_corrected.parquet (19143, 665)\n",
      "(19143, 43)\n",
      "../3.correct/output/subset_profiles_mean_corrected_preprocessed.parquet (19143, 644)\n",
      "(19143, 36)\n",
      "../3.correct/output/subset_profiles_cc_well_corrected.parquet (19143, 680)\n",
      "(19143, 38)\n"
     ]
    }
   ],
   "source": [
    "components = [33, 26, 19, 21]\n",
    "\n",
    "for i, p in enumerate(profiles):\n",
    "    df = pd.read_parquet(profiles[p])\n",
    "    print(profiles[p], df.shape)\n",
    "    kpca = KernelPCA(n_components=components[i], kernel='cosine')\n",
    "    df = pd.concat([\n",
    "        df.filter(regex=\"^Metadata_\"),\n",
    "        pd.DataFrame(kpca.fit_transform(df.filter(regex=\"^(?!Metadata_)\")))\n",
    "    ], axis=1)\n",
    "    df.columns = df.columns.map(str)\n",
    "    print(df.shape)\n",
    "    df.to_parquet(Path(profiles[p]).parent / (Path(profiles[p]).stem + \"_cospca.parquet\"))"
   ]
  }
 ],
 "metadata": {
  "kernelspec": {
   "display_name": "position-effect-correction-ckMVtFsQ-py3.9",
   "language": "python",
   "name": "python3"
  },
  "language_info": {
   "codemirror_mode": {
    "name": "ipython",
    "version": 3
   },
   "file_extension": ".py",
   "mimetype": "text/x-python",
   "name": "python",
   "nbconvert_exporter": "python",
   "pygments_lexer": "ipython3",
   "version": "3.9.14"
  },
  "orig_nbformat": 4
 },
 "nbformat": 4,
 "nbformat_minor": 2
}
