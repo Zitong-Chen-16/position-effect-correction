{
 "cells": [
  {
   "cell_type": "code",
   "execution_count": 6,
   "metadata": {},
   "outputs": [],
   "source": [
    "import sys\n",
    "\n",
    "sys.path.append(\"../scripts\")\n",
    "from pathlib import Path\n",
    "\n",
    "from tqdm.auto import tqdm\n",
    "\n",
    "import pandas as pd\n",
    "from sklearn.decomposition import PCA, KernelPCA"
   ]
  },
  {
   "cell_type": "code",
   "execution_count": 7,
   "metadata": {},
   "outputs": [],
   "source": [
    "profiles = {\n",
    "    \"subset->preprocess\": \"../1.load/output/subset_processed_profiles.parquet\",\n",
    "    \"subset->cc_adjust->preprocess\": \"../3.correct/output/subset_profiles_cc_corrected.parquet\",\n",
    "    \"subset->well_correct->preprocess\": \"../3.correct/output/subset_profiles_mean_corrected_preprocessed.parquet\",\n",
    "    \"subset->cc_adjust->well_correct->preprocess\": \"../3.correct/output/subset_profiles_cc_well_corrected.parquet\",\n",
    "}"
   ]
  },
  {
   "cell_type": "code",
   "execution_count": 8,
   "metadata": {},
   "outputs": [
    {
     "name": "stdout",
     "output_type": "stream",
     "text": [
      "(19143, 842) \n",
      " Cells        223\n",
      "Cytoplasm    216\n",
      "Nuclei       195\n",
      "Image        191\n",
      "dtype: int64\n",
      "(19143, 651)\n",
      "(19143, 905) \n",
      " Cytoplasm    243\n",
      "Cells        223\n",
      "Image        222\n",
      "Nuclei       200\n",
      "dtype: int64\n",
      "(19143, 683)\n",
      "(19143, 972) \n",
      " Cytoplasm    278\n",
      "Nuclei       241\n",
      "Cells        226\n",
      "Image        210\n",
      "dtype: int64\n",
      "(19143, 762)\n",
      "(19143, 984) \n",
      " Cytoplasm    276\n",
      "Image        249\n",
      "Nuclei       232\n",
      "Cells        210\n",
      "dtype: int64\n",
      "(19143, 735)\n"
     ]
    }
   ],
   "source": [
    "for p in profiles:\n",
    "    df = pd.read_parquet(profiles[p])\n",
    "    print(\n",
    "        df.shape,\n",
    "        \"\\n\",\n",
    "        df.filter(regex=\"^(?!Metadata_)\").columns.str.split(\"_\").str[0].value_counts(),\n",
    "    )\n",
    "    df = df.loc[:, ~df.columns.str.startswith(\"Image_\")]\n",
    "    print(df.shape)\n",
    "    # save to parquet with appended suffix _no_image to the filename\n",
    "    df.to_parquet(\n",
    "        Path(profiles[p]).parent / (Path(profiles[p]).stem + \"_no_image.parquet\")\n",
    "    )"
   ]
  },
  {
   "attachments": {},
   "cell_type": "markdown",
   "metadata": {},
   "source": [
    "#### Also try PCA"
   ]
  },
  {
   "cell_type": "code",
   "execution_count": 9,
   "metadata": {},
   "outputs": [
    {
     "name": "stdout",
     "output_type": "stream",
     "text": [
      "(19143, 842)\n",
      "(19143, 45)\n",
      "(19143, 905)\n",
      "(19143, 26)\n",
      "(19143, 972)\n",
      "(19143, 20)\n",
      "(19143, 984)\n",
      "(19143, 20)\n"
     ]
    }
   ],
   "source": [
    "for p in profiles:\n",
    "    df = pd.read_parquet(profiles[p])\n",
    "    print(df.shape)\n",
    "    pca = PCA(n_components=0.99, svd_solver=\"full\")\n",
    "    df = pd.concat(\n",
    "        [\n",
    "            df.filter(regex=\"^Metadata_\"),\n",
    "            pd.DataFrame(pca.fit_transform(df.filter(regex=\"^(?!Metadata_)\"))),\n",
    "        ],\n",
    "        axis=1,\n",
    "    )\n",
    "    df.columns = df.columns.map(str)\n",
    "    print(df.shape)\n",
    "    df.to_parquet(Path(profiles[p]).parent / (Path(profiles[p]).stem + \"_pca.parquet\"))"
   ]
  },
  {
   "cell_type": "code",
   "execution_count": 10,
   "metadata": {},
   "outputs": [
    {
     "name": "stdout",
     "output_type": "stream",
     "text": [
      "(19143, 651)\n",
      "(19143, 301)\n",
      "(19143, 683)\n",
      "(19143, 25)\n",
      "(19143, 762)\n",
      "(19143, 50)\n",
      "(19143, 735)\n",
      "(19143, 19)\n"
     ]
    }
   ],
   "source": [
    "for p in profiles:\n",
    "    df = pd.read_parquet(profiles[p])\n",
    "    df = df.loc[:, ~df.columns.str.startswith(\"Image_\")]\n",
    "    print(df.shape)\n",
    "    pca = PCA(n_components=0.99, svd_solver=\"full\")\n",
    "    df = pd.concat(\n",
    "        [\n",
    "            df.filter(regex=\"^Metadata_\"),\n",
    "            pd.DataFrame(pca.fit_transform(df.filter(regex=\"^(?!Metadata_)\"))),\n",
    "        ],\n",
    "        axis=1,\n",
    "    )\n",
    "    df.columns = df.columns.map(str)\n",
    "    print(df.shape)\n",
    "    df.to_parquet(\n",
    "        Path(profiles[p]).parent / (Path(profiles[p]).stem + \"_no_image_pca.parquet\")\n",
    "    )"
   ]
  },
  {
   "attachments": {},
   "cell_type": "markdown",
   "metadata": {},
   "source": [
    "#### PCA using cosine kernel (takes >15 min on M1 32GB)"
   ]
  },
  {
   "cell_type": "code",
   "execution_count": 5,
   "metadata": {},
   "outputs": [
    {
     "name": "stdout",
     "output_type": "stream",
     "text": [
      "c_num=30\n"
     ]
    },
    {
     "data": {
      "application/vnd.jupyter.widget-view+json": {
       "model_id": "c341f69524614143a9c26d182651741e",
       "version_major": 2,
       "version_minor": 0
      },
      "text/plain": [
       "  0%|          | 0/4 [00:00<?, ?it/s]"
      ]
     },
     "metadata": {},
     "output_type": "display_data"
    },
    {
     "name": "stdout",
     "output_type": "stream",
     "text": [
      "../1.load/output/subset_processed_profiles.parquet (19143, 842)\n",
      "(19143, 47)\n",
      "../3.correct/output/subset_profiles_cc_corrected.parquet (19143, 905)\n",
      "(19143, 47)\n",
      "../3.correct/output/subset_profiles_mean_corrected_preprocessed.parquet (19143, 972)\n",
      "(19143, 47)\n",
      "../3.correct/output/subset_profiles_cc_well_corrected.parquet (19143, 984)\n",
      "(19143, 47)\n",
      "c_num=20\n"
     ]
    },
    {
     "data": {
      "application/vnd.jupyter.widget-view+json": {
       "model_id": "2c02fd6d9ac44b458beef99ff8eacd22",
       "version_major": 2,
       "version_minor": 0
      },
      "text/plain": [
       "  0%|          | 0/4 [00:00<?, ?it/s]"
      ]
     },
     "metadata": {},
     "output_type": "display_data"
    },
    {
     "name": "stdout",
     "output_type": "stream",
     "text": [
      "../1.load/output/subset_processed_profiles.parquet (19143, 842)\n",
      "(19143, 37)\n",
      "../3.correct/output/subset_profiles_cc_corrected.parquet (19143, 905)\n",
      "(19143, 37)\n",
      "../3.correct/output/subset_profiles_mean_corrected_preprocessed.parquet (19143, 972)\n",
      "(19143, 37)\n",
      "../3.correct/output/subset_profiles_cc_well_corrected.parquet (19143, 984)\n",
      "(19143, 37)\n"
     ]
    }
   ],
   "source": [
    "components = [30, 20]\n",
    "\n",
    "for c_num in components:\n",
    "    print(f\"{c_num=}\")\n",
    "    for p in tqdm(profiles):\n",
    "        df = pd.read_parquet(profiles[p])\n",
    "        print(profiles[p], df.shape)\n",
    "        kpca = KernelPCA(n_components=c_num, kernel=\"cosine\")\n",
    "        df = pd.concat(\n",
    "            [\n",
    "                df.filter(regex=\"^Metadata_\"),\n",
    "                pd.DataFrame(kpca.fit_transform(df.filter(regex=\"^(?!Metadata_)\"))),\n",
    "            ],\n",
    "            axis=1,\n",
    "        )\n",
    "        df.columns = df.columns.map(str)\n",
    "        print(df.shape)\n",
    "        df.to_parquet(\n",
    "            Path(profiles[p]).parent\n",
    "            / (Path(profiles[p]).stem + f\"_cospca_{c_num}.parquet\")\n",
    "        )"
   ]
  }
 ],
 "metadata": {
  "kernelspec": {
   "display_name": "position-effect-correction-ckMVtFsQ-py3.9",
   "language": "python",
   "name": "python3"
  },
  "language_info": {
   "codemirror_mode": {
    "name": "ipython",
    "version": 3
   },
   "file_extension": ".py",
   "mimetype": "text/x-python",
   "name": "python",
   "nbconvert_exporter": "python",
   "pygments_lexer": "ipython3",
   "version": "3.9.14"
  },
  "orig_nbformat": 4
 },
 "nbformat": 4,
 "nbformat_minor": 2
}
