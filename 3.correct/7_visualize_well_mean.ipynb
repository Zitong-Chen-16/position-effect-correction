{
 "cells": [
  {
   "cell_type": "code",
   "execution_count": 1,
   "metadata": {},
   "outputs": [],
   "source": [
    "import sys\n",
    "sys.path.append(\"../scripts\")\n",
    "\n",
    "import pandas as pd\n",
    "import seaborn as sns\n",
    "import matplotlib.pyplot as plt\n",
    "\n",
    "from load import load_config\n",
    "from preprocess import preprocess_profiles\n",
    "from plot_utils import plot_mean_feature_per_well"
   ]
  },
  {
   "cell_type": "code",
   "execution_count": 2,
   "metadata": {},
   "outputs": [
    {
     "data": {
      "text/plain": [
       "{'normalize_group': 'Metadata_Plate',\n",
       " 'normalize_kwargs': {'method': 'mad_robustize',\n",
       "  'mad_robustize_epsilon': 0.0,\n",
       "  'image_features': True},\n",
       " 'feature_select_whitelist': ['Cells_Count'],\n",
       " 'feature_select_kwargs': {'operation': ['variance_threshold',\n",
       "   'correlation_threshold',\n",
       "   'drop_na_columns',\n",
       "   'blocklist'],\n",
       "  'unique_cut': 0.01,\n",
       "  'image_features': True}}"
      ]
     },
     "execution_count": 2,
     "metadata": {},
     "output_type": "execute_result"
    }
   ],
   "source": [
    "preprocess_config = load_config(\"../configs/preprocess\")\n",
    "preprocess_config"
   ]
  },
  {
   "cell_type": "code",
   "execution_count": 3,
   "metadata": {},
   "outputs": [],
   "source": [
    "figsave_path = \"output/plate_visualizations\"\n",
    "\n",
    "features = [\n",
    "    \"Cells_AreaShape_Area\",\n",
    "    \"Cells_Intensity_MeanIntensity_AGP\",\n",
    "    \"Image_Threshold_SumOfEntropies_CellsIncludingEdges\",\n",
    "    \"Cells_Count\",\n",
    "]\n",
    "\n",
    "feature_select_ops = {\n",
    "    \"operation\": [\"drop_na_columns\", \"blocklist\"],\n",
    "    \"image_features\": True,\n",
    "}"
   ]
  },
  {
   "cell_type": "code",
   "execution_count": 4,
   "metadata": {},
   "outputs": [],
   "source": [
    "# profiles = pd.read_parquet(\"output/subset_profiles_cc_well_corrected.parquet\")\n",
    "\n",
    "profiles = {\n",
    "    \"raw_profiles\": \"../1.load/output/raw_filtered_profiles.parquet\",\n",
    "    \"cc_adj_profiles\": \"../3.correct/output/profiles_cc_adjusted.parquet\",\n",
    "    \"well_mean_subtracted\": \"../3.correct/output/full_profiles_mean_corrected.parquet\",\n",
    "    \"cc_adj_well_mean_subtracted\": \"../3.correct/output/full_profiles_cc_adj_mean_corr.parquet\",\n",
    "}\n",
    "\n",
    "# profiles = pd.read_parquet(\"output/subset_profiles_cc_corrected.parquet\")\n",
    "# profiles"
   ]
  },
  {
   "attachments": {},
   "cell_type": "markdown",
   "metadata": {},
   "source": [
    "### Visualize mean feature values per well position"
   ]
  },
  {
   "cell_type": "code",
   "execution_count": 5,
   "metadata": {},
   "outputs": [],
   "source": [
    "for p in profiles:\n",
    "    df = pd.read_parquet(profiles[p])\n",
    "\n",
    "    df = preprocess_profiles(df, **preprocess_config)\n",
    "\n",
    "    df[\"Cells_Average_Feature\"] = df.filter(regex=\"^Cells_\").mean(1)\n",
    "    df[\"Nuclei_Average_Feature\"] = df.filter(regex=\"^Nuclei_\").mean(1)\n",
    "    df[\"Cytoplasm_Average_Feature\"] = df.filter(regex=\"^Cytoplasm_\").mean(1)\n",
    "    df[\"Image_Average_Feature\"] = df.filter(regex=\"^Image_\").mean(1)\n",
    "    df[\"All_Average_Feature\"] = df.filter(regex=\"^(?!Metadata_)\").mean(1)\n",
    "\n",
    "    features += [\n",
    "        \"Cells_Average_Feature\",\n",
    "        \"Nuclei_Average_Feature\",\n",
    "        \"Cytoplasm_Average_Feature\",\n",
    "        \"Image_Average_Feature\",\n",
    "        \"All_Average_Feature\",\n",
    "    ]\n",
    "\n",
    "    for feature in features:\n",
    "        print(\n",
    "            f\"{p} {feature} correlation with Cells_Count: {df[feature].corr(df['Cells_Count'])}\"\n",
    "        )\n",
    "        plot_mean_feature_per_well(df, feature, prefix=p, figsave_path=figsave_path)\n",
    "        plt.show()"
   ]
  }
 ],
 "metadata": {
  "kernelspec": {
   "display_name": "position-effect-correction-ckMVtFsQ-py3.9",
   "language": "python",
   "name": "python3"
  },
  "language_info": {
   "codemirror_mode": {
    "name": "ipython",
    "version": 3
   },
   "file_extension": ".py",
   "mimetype": "text/x-python",
   "name": "python",
   "nbconvert_exporter": "python",
   "pygments_lexer": "ipython3",
   "version": "3.9.14"
  },
  "orig_nbformat": 4
 },
 "nbformat": 4,
 "nbformat_minor": 2
}
